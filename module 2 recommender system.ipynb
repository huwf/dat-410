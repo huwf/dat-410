{
 "cells": [
  {
   "cell_type": "code",
   "execution_count": 1,
   "metadata": {
    "collapsed": true
   },
   "outputs": [],
   "source": [
    "import numpy as np\n",
    "import pandas as pd\n"
   ]
  },
  {
   "cell_type": "code",
   "execution_count": 2,
   "outputs": [
    {
     "data": {
      "text/plain": "            movie_title  genre_action  genre_adventure  genre_animation  \\\n0               The Net             1                0                0   \n1  Happily N'Ever After             0                1                1   \n2          Tomorrowland             1                1                0   \n3         American Hero             1                0                0   \n4              Das Boot             0                1                0   \n\n   genre_biography  genre_comedy  genre_crime  genre_documentary  genre_drama  \\\n0                0             0            1                  0            1   \n1                0             1            0                  0            0   \n2                0             0            0                  0            0   \n3                0             1            0                  0            1   \n4                0             0            0                  0            1   \n\n   genre_family  ...  genre_mystery  genre_news  genre_reality-tv  \\\n0             0  ...              1           0                 0   \n1             1  ...              0           0                 0   \n2             1  ...              1           0                 0   \n3             0  ...              0           0                 0   \n4             0  ...              0           0                 0   \n\n   genre_romance  genre_sci-fi  genre_short  genre_sport  genre_thriller  \\\n0              0             0            0            0               1   \n1              0             0            0            0               0   \n2              0             1            0            0               0   \n3              0             1            0            0               0   \n4              0             0            0            0               1   \n\n   genre_war  genre_western  \n0          0              0  \n1          0              0  \n2          0              0  \n3          0              0  \n4          1              0  \n\n[5 rows x 26 columns]",
      "text/html": "<div>\n<style scoped>\n    .dataframe tbody tr th:only-of-type {\n        vertical-align: middle;\n    }\n\n    .dataframe tbody tr th {\n        vertical-align: top;\n    }\n\n    .dataframe thead th {\n        text-align: right;\n    }\n</style>\n<table border=\"1\" class=\"dataframe\">\n  <thead>\n    <tr style=\"text-align: right;\">\n      <th></th>\n      <th>movie_title</th>\n      <th>genre_action</th>\n      <th>genre_adventure</th>\n      <th>genre_animation</th>\n      <th>genre_biography</th>\n      <th>genre_comedy</th>\n      <th>genre_crime</th>\n      <th>genre_documentary</th>\n      <th>genre_drama</th>\n      <th>genre_family</th>\n      <th>...</th>\n      <th>genre_mystery</th>\n      <th>genre_news</th>\n      <th>genre_reality-tv</th>\n      <th>genre_romance</th>\n      <th>genre_sci-fi</th>\n      <th>genre_short</th>\n      <th>genre_sport</th>\n      <th>genre_thriller</th>\n      <th>genre_war</th>\n      <th>genre_western</th>\n    </tr>\n  </thead>\n  <tbody>\n    <tr>\n      <th>0</th>\n      <td>The Net</td>\n      <td>1</td>\n      <td>0</td>\n      <td>0</td>\n      <td>0</td>\n      <td>0</td>\n      <td>1</td>\n      <td>0</td>\n      <td>1</td>\n      <td>0</td>\n      <td>...</td>\n      <td>1</td>\n      <td>0</td>\n      <td>0</td>\n      <td>0</td>\n      <td>0</td>\n      <td>0</td>\n      <td>0</td>\n      <td>1</td>\n      <td>0</td>\n      <td>0</td>\n    </tr>\n    <tr>\n      <th>1</th>\n      <td>Happily N'Ever After</td>\n      <td>0</td>\n      <td>1</td>\n      <td>1</td>\n      <td>0</td>\n      <td>1</td>\n      <td>0</td>\n      <td>0</td>\n      <td>0</td>\n      <td>1</td>\n      <td>...</td>\n      <td>0</td>\n      <td>0</td>\n      <td>0</td>\n      <td>0</td>\n      <td>0</td>\n      <td>0</td>\n      <td>0</td>\n      <td>0</td>\n      <td>0</td>\n      <td>0</td>\n    </tr>\n    <tr>\n      <th>2</th>\n      <td>Tomorrowland</td>\n      <td>1</td>\n      <td>1</td>\n      <td>0</td>\n      <td>0</td>\n      <td>0</td>\n      <td>0</td>\n      <td>0</td>\n      <td>0</td>\n      <td>1</td>\n      <td>...</td>\n      <td>1</td>\n      <td>0</td>\n      <td>0</td>\n      <td>0</td>\n      <td>1</td>\n      <td>0</td>\n      <td>0</td>\n      <td>0</td>\n      <td>0</td>\n      <td>0</td>\n    </tr>\n    <tr>\n      <th>3</th>\n      <td>American Hero</td>\n      <td>1</td>\n      <td>0</td>\n      <td>0</td>\n      <td>0</td>\n      <td>1</td>\n      <td>0</td>\n      <td>0</td>\n      <td>1</td>\n      <td>0</td>\n      <td>...</td>\n      <td>0</td>\n      <td>0</td>\n      <td>0</td>\n      <td>0</td>\n      <td>1</td>\n      <td>0</td>\n      <td>0</td>\n      <td>0</td>\n      <td>0</td>\n      <td>0</td>\n    </tr>\n    <tr>\n      <th>4</th>\n      <td>Das Boot</td>\n      <td>0</td>\n      <td>1</td>\n      <td>0</td>\n      <td>0</td>\n      <td>0</td>\n      <td>0</td>\n      <td>0</td>\n      <td>1</td>\n      <td>0</td>\n      <td>...</td>\n      <td>0</td>\n      <td>0</td>\n      <td>0</td>\n      <td>0</td>\n      <td>0</td>\n      <td>0</td>\n      <td>0</td>\n      <td>1</td>\n      <td>1</td>\n      <td>0</td>\n    </tr>\n  </tbody>\n</table>\n<p>5 rows × 26 columns</p>\n</div>"
     },
     "execution_count": 2,
     "metadata": {},
     "output_type": "execute_result"
    }
   ],
   "source": [
    "genres = pd.read_csv('data/movie_genres.csv').drop('Unnamed: 0', axis=1)\n",
    "genres.head()\n"
   ],
   "metadata": {
    "collapsed": false
   }
  },
  {
   "cell_type": "code",
   "execution_count": 3,
   "outputs": [
    {
     "data": {
      "text/plain": "   genre_action  genre_adventure  genre_animation  genre_biography  \\\n0             1                0                0                0   \n1             0                1                1                0   \n2             1                1                0                0   \n3             1                0                0                0   \n4             0                1                0                0   \n\n   genre_comedy  genre_crime  genre_documentary  genre_drama  genre_family  \\\n0             0            1                  0            1             0   \n1             1            0                  0            0             1   \n2             0            0                  0            0             1   \n3             1            0                  0            1             0   \n4             0            0                  0            1             0   \n\n   genre_fantasy  ...  genre_mystery  genre_news  genre_reality-tv  \\\n0              0  ...              1           0                 0   \n1              1  ...              0           0                 0   \n2              0  ...              1           0                 0   \n3              0  ...              0           0                 0   \n4              0  ...              0           0                 0   \n\n   genre_romance  genre_sci-fi  genre_short  genre_sport  genre_thriller  \\\n0              0             0            0            0               1   \n1              0             0            0            0               0   \n2              0             1            0            0               0   \n3              0             1            0            0               0   \n4              0             0            0            0               1   \n\n   genre_war  genre_western  \n0          0              0  \n1          0              0  \n2          0              0  \n3          0              0  \n4          1              0  \n\n[5 rows x 25 columns]",
      "text/html": "<div>\n<style scoped>\n    .dataframe tbody tr th:only-of-type {\n        vertical-align: middle;\n    }\n\n    .dataframe tbody tr th {\n        vertical-align: top;\n    }\n\n    .dataframe thead th {\n        text-align: right;\n    }\n</style>\n<table border=\"1\" class=\"dataframe\">\n  <thead>\n    <tr style=\"text-align: right;\">\n      <th></th>\n      <th>genre_action</th>\n      <th>genre_adventure</th>\n      <th>genre_animation</th>\n      <th>genre_biography</th>\n      <th>genre_comedy</th>\n      <th>genre_crime</th>\n      <th>genre_documentary</th>\n      <th>genre_drama</th>\n      <th>genre_family</th>\n      <th>genre_fantasy</th>\n      <th>...</th>\n      <th>genre_mystery</th>\n      <th>genre_news</th>\n      <th>genre_reality-tv</th>\n      <th>genre_romance</th>\n      <th>genre_sci-fi</th>\n      <th>genre_short</th>\n      <th>genre_sport</th>\n      <th>genre_thriller</th>\n      <th>genre_war</th>\n      <th>genre_western</th>\n    </tr>\n  </thead>\n  <tbody>\n    <tr>\n      <th>0</th>\n      <td>1</td>\n      <td>0</td>\n      <td>0</td>\n      <td>0</td>\n      <td>0</td>\n      <td>1</td>\n      <td>0</td>\n      <td>1</td>\n      <td>0</td>\n      <td>0</td>\n      <td>...</td>\n      <td>1</td>\n      <td>0</td>\n      <td>0</td>\n      <td>0</td>\n      <td>0</td>\n      <td>0</td>\n      <td>0</td>\n      <td>1</td>\n      <td>0</td>\n      <td>0</td>\n    </tr>\n    <tr>\n      <th>1</th>\n      <td>0</td>\n      <td>1</td>\n      <td>1</td>\n      <td>0</td>\n      <td>1</td>\n      <td>0</td>\n      <td>0</td>\n      <td>0</td>\n      <td>1</td>\n      <td>1</td>\n      <td>...</td>\n      <td>0</td>\n      <td>0</td>\n      <td>0</td>\n      <td>0</td>\n      <td>0</td>\n      <td>0</td>\n      <td>0</td>\n      <td>0</td>\n      <td>0</td>\n      <td>0</td>\n    </tr>\n    <tr>\n      <th>2</th>\n      <td>1</td>\n      <td>1</td>\n      <td>0</td>\n      <td>0</td>\n      <td>0</td>\n      <td>0</td>\n      <td>0</td>\n      <td>0</td>\n      <td>1</td>\n      <td>0</td>\n      <td>...</td>\n      <td>1</td>\n      <td>0</td>\n      <td>0</td>\n      <td>0</td>\n      <td>1</td>\n      <td>0</td>\n      <td>0</td>\n      <td>0</td>\n      <td>0</td>\n      <td>0</td>\n    </tr>\n    <tr>\n      <th>3</th>\n      <td>1</td>\n      <td>0</td>\n      <td>0</td>\n      <td>0</td>\n      <td>1</td>\n      <td>0</td>\n      <td>0</td>\n      <td>1</td>\n      <td>0</td>\n      <td>0</td>\n      <td>...</td>\n      <td>0</td>\n      <td>0</td>\n      <td>0</td>\n      <td>0</td>\n      <td>1</td>\n      <td>0</td>\n      <td>0</td>\n      <td>0</td>\n      <td>0</td>\n      <td>0</td>\n    </tr>\n    <tr>\n      <th>4</th>\n      <td>0</td>\n      <td>1</td>\n      <td>0</td>\n      <td>0</td>\n      <td>0</td>\n      <td>0</td>\n      <td>0</td>\n      <td>1</td>\n      <td>0</td>\n      <td>0</td>\n      <td>...</td>\n      <td>0</td>\n      <td>0</td>\n      <td>0</td>\n      <td>0</td>\n      <td>0</td>\n      <td>0</td>\n      <td>0</td>\n      <td>1</td>\n      <td>1</td>\n      <td>0</td>\n    </tr>\n  </tbody>\n</table>\n<p>5 rows × 25 columns</p>\n</div>"
     },
     "execution_count": 3,
     "metadata": {},
     "output_type": "execute_result"
    }
   ],
   "source": [
    "X = genres.drop(columns=['movie_title'])\n",
    "X.head()"
   ],
   "metadata": {
    "collapsed": false
   }
  },
  {
   "cell_type": "code",
   "execution_count": 4,
   "outputs": [
    {
     "data": {
      "text/plain": "User                     600\nThe Net                  600\nHappily N'Ever After     600\nTomorrowland             600\nAmerican Hero            600\n                        ... \nBig Fish                 600\nGet Real                 600\nTrading Places           600\nDOA: Dead or Alive       600\nHey Arnold! The Movie    600\nLength: 2001, dtype: int64"
     },
     "execution_count": 4,
     "metadata": {},
     "output_type": "execute_result"
    }
   ],
   "source": [
    "reviews = pd.read_csv('data/user_reviews.csv').drop('Unnamed: 0', axis=1)\n",
    "reviews.count()"
   ],
   "metadata": {
    "collapsed": false
   }
  },
  {
   "cell_type": "code",
   "execution_count": 5,
   "outputs": [
    {
     "data": {
      "text/plain": "      User  The Net  Happily N'Ever After  Tomorrowland  American Hero  \\\n0  Vincent      0.0                   0.0           0.0            0.0   \n1    Edgar      0.0                   0.0           0.0            0.0   \n2  Addilyn      0.0                   0.0           0.0            0.0   \n3   Marlee      0.0                   0.0           0.0            0.0   \n4   Javier      0.0                   0.0           0.0            0.0   \n\n   Das Boot  Final Destination 3  Licence to Kill  The Hundred-Foot Journey  \\\n0       0.0                  0.0              0.0                       0.0   \n1       0.0                  0.0              0.0                       0.0   \n2       0.0                  0.0              0.0                       0.0   \n3       0.0                  0.0              0.0                       0.0   \n4       0.0                  0.0              0.0                       0.0   \n\n   The Matrix  ...  The Martian  Micmacs  Solomon and Sheba  \\\n0         0.0  ...          0.0      0.0                0.0   \n1         0.0  ...          0.0      0.0                0.0   \n2         0.0  ...          0.0      0.0                0.0   \n3         0.0  ...          0.0      0.0                0.0   \n4         0.0  ...          0.0      0.0                0.0   \n\n   In the Company of Men  Silent House  Big Fish  Get Real  Trading Places  \\\n0                    0.0           0.0       0.0       0.0             0.0   \n1                    0.0           0.0       0.0       0.0             0.0   \n2                    0.0           0.0       0.0       0.0             0.0   \n3                    0.0           0.0       0.0       0.0             0.0   \n4                    0.0           0.0       0.0       0.0             0.0   \n\n   DOA: Dead or Alive  Hey Arnold! The Movie  \n0                 0.0                    0.0  \n1                 0.0                    0.0  \n2                 0.0                    0.0  \n3                 0.0                    0.0  \n4                 0.0                    0.0  \n\n[5 rows x 2001 columns]",
      "text/html": "<div>\n<style scoped>\n    .dataframe tbody tr th:only-of-type {\n        vertical-align: middle;\n    }\n\n    .dataframe tbody tr th {\n        vertical-align: top;\n    }\n\n    .dataframe thead th {\n        text-align: right;\n    }\n</style>\n<table border=\"1\" class=\"dataframe\">\n  <thead>\n    <tr style=\"text-align: right;\">\n      <th></th>\n      <th>User</th>\n      <th>The Net</th>\n      <th>Happily N'Ever After</th>\n      <th>Tomorrowland</th>\n      <th>American Hero</th>\n      <th>Das Boot</th>\n      <th>Final Destination 3</th>\n      <th>Licence to Kill</th>\n      <th>The Hundred-Foot Journey</th>\n      <th>The Matrix</th>\n      <th>...</th>\n      <th>The Martian</th>\n      <th>Micmacs</th>\n      <th>Solomon and Sheba</th>\n      <th>In the Company of Men</th>\n      <th>Silent House</th>\n      <th>Big Fish</th>\n      <th>Get Real</th>\n      <th>Trading Places</th>\n      <th>DOA: Dead or Alive</th>\n      <th>Hey Arnold! The Movie</th>\n    </tr>\n  </thead>\n  <tbody>\n    <tr>\n      <th>0</th>\n      <td>Vincent</td>\n      <td>0.0</td>\n      <td>0.0</td>\n      <td>0.0</td>\n      <td>0.0</td>\n      <td>0.0</td>\n      <td>0.0</td>\n      <td>0.0</td>\n      <td>0.0</td>\n      <td>0.0</td>\n      <td>...</td>\n      <td>0.0</td>\n      <td>0.0</td>\n      <td>0.0</td>\n      <td>0.0</td>\n      <td>0.0</td>\n      <td>0.0</td>\n      <td>0.0</td>\n      <td>0.0</td>\n      <td>0.0</td>\n      <td>0.0</td>\n    </tr>\n    <tr>\n      <th>1</th>\n      <td>Edgar</td>\n      <td>0.0</td>\n      <td>0.0</td>\n      <td>0.0</td>\n      <td>0.0</td>\n      <td>0.0</td>\n      <td>0.0</td>\n      <td>0.0</td>\n      <td>0.0</td>\n      <td>0.0</td>\n      <td>...</td>\n      <td>0.0</td>\n      <td>0.0</td>\n      <td>0.0</td>\n      <td>0.0</td>\n      <td>0.0</td>\n      <td>0.0</td>\n      <td>0.0</td>\n      <td>0.0</td>\n      <td>0.0</td>\n      <td>0.0</td>\n    </tr>\n    <tr>\n      <th>2</th>\n      <td>Addilyn</td>\n      <td>0.0</td>\n      <td>0.0</td>\n      <td>0.0</td>\n      <td>0.0</td>\n      <td>0.0</td>\n      <td>0.0</td>\n      <td>0.0</td>\n      <td>0.0</td>\n      <td>0.0</td>\n      <td>...</td>\n      <td>0.0</td>\n      <td>0.0</td>\n      <td>0.0</td>\n      <td>0.0</td>\n      <td>0.0</td>\n      <td>0.0</td>\n      <td>0.0</td>\n      <td>0.0</td>\n      <td>0.0</td>\n      <td>0.0</td>\n    </tr>\n    <tr>\n      <th>3</th>\n      <td>Marlee</td>\n      <td>0.0</td>\n      <td>0.0</td>\n      <td>0.0</td>\n      <td>0.0</td>\n      <td>0.0</td>\n      <td>0.0</td>\n      <td>0.0</td>\n      <td>0.0</td>\n      <td>0.0</td>\n      <td>...</td>\n      <td>0.0</td>\n      <td>0.0</td>\n      <td>0.0</td>\n      <td>0.0</td>\n      <td>0.0</td>\n      <td>0.0</td>\n      <td>0.0</td>\n      <td>0.0</td>\n      <td>0.0</td>\n      <td>0.0</td>\n    </tr>\n    <tr>\n      <th>4</th>\n      <td>Javier</td>\n      <td>0.0</td>\n      <td>0.0</td>\n      <td>0.0</td>\n      <td>0.0</td>\n      <td>0.0</td>\n      <td>0.0</td>\n      <td>0.0</td>\n      <td>0.0</td>\n      <td>0.0</td>\n      <td>...</td>\n      <td>0.0</td>\n      <td>0.0</td>\n      <td>0.0</td>\n      <td>0.0</td>\n      <td>0.0</td>\n      <td>0.0</td>\n      <td>0.0</td>\n      <td>0.0</td>\n      <td>0.0</td>\n      <td>0.0</td>\n    </tr>\n  </tbody>\n</table>\n<p>5 rows × 2001 columns</p>\n</div>"
     },
     "execution_count": 5,
     "metadata": {},
     "output_type": "execute_result"
    }
   ],
   "source": [
    "# Limit amount of users to 5\n",
    "y = reviews.head(5)\n",
    "y"
   ],
   "metadata": {
    "collapsed": false
   }
  },
  {
   "cell_type": "code",
   "execution_count": 6,
   "outputs": [],
   "source": [
    "# Use this to remove unrated movies from the loss function\n",
    "r = y.astype('bool').astype('int')"
   ],
   "metadata": {
    "collapsed": false
   }
  },
  {
   "cell_type": "code",
   "execution_count": 7,
   "outputs": [
    {
     "data": {
      "text/plain": "         0         1         2         3         4         5         6   \\\n0  0.000108  0.887797  0.504205  0.136096  0.194494  0.607874  0.565551   \n1  0.143642  0.888581  0.304131  0.702437  0.952609  0.027689  0.325648   \n2  0.748244  0.506050  0.238572  0.032909  0.117740  0.663750  0.486524   \n3  0.724179  0.655571  0.636171  0.316830  0.275003  0.300462  0.247803   \n4  0.010546  0.288565  0.735432  0.834574  0.104929  0.921374  0.375172   \n\n         7         8         9   ...        15        16        17        18  \\\n0  0.941655  0.569895  0.949296  ...  0.184798  0.111877  0.000013  0.543406   \n1  0.101302  0.491287  0.971621  ...  0.770933  0.530315  0.759894  0.036298   \n2  0.940651  0.384683  0.326248  ...  0.161193  0.763079  0.789781  0.236846   \n3  0.213863  0.509087  0.328180  ...  0.821370  0.641889  0.080811  0.503829   \n4  0.703290  0.145067  0.654591  ...  0.538711  0.709982  0.358451  0.005194   \n\n         19        20        21        22        23        24  \n0  0.390516  0.909604  0.859236  0.154964  0.772264  0.432009  \n1  0.422938  0.285150  0.709077  0.914524  0.275597  0.814530  \n2  0.318193  0.946108  0.708048  0.233251  0.155047  0.741752  \n3  0.405692  0.736098  0.593038  0.422623  0.858617  0.920588  \n4  0.281279  0.171292  0.893129  0.011452  0.573926  0.690373  \n\n[5 rows x 25 columns]",
      "text/html": "<div>\n<style scoped>\n    .dataframe tbody tr th:only-of-type {\n        vertical-align: middle;\n    }\n\n    .dataframe tbody tr th {\n        vertical-align: top;\n    }\n\n    .dataframe thead th {\n        text-align: right;\n    }\n</style>\n<table border=\"1\" class=\"dataframe\">\n  <thead>\n    <tr style=\"text-align: right;\">\n      <th></th>\n      <th>0</th>\n      <th>1</th>\n      <th>2</th>\n      <th>3</th>\n      <th>4</th>\n      <th>5</th>\n      <th>6</th>\n      <th>7</th>\n      <th>8</th>\n      <th>9</th>\n      <th>...</th>\n      <th>15</th>\n      <th>16</th>\n      <th>17</th>\n      <th>18</th>\n      <th>19</th>\n      <th>20</th>\n      <th>21</th>\n      <th>22</th>\n      <th>23</th>\n      <th>24</th>\n    </tr>\n  </thead>\n  <tbody>\n    <tr>\n      <th>0</th>\n      <td>0.000108</td>\n      <td>0.887797</td>\n      <td>0.504205</td>\n      <td>0.136096</td>\n      <td>0.194494</td>\n      <td>0.607874</td>\n      <td>0.565551</td>\n      <td>0.941655</td>\n      <td>0.569895</td>\n      <td>0.949296</td>\n      <td>...</td>\n      <td>0.184798</td>\n      <td>0.111877</td>\n      <td>0.000013</td>\n      <td>0.543406</td>\n      <td>0.390516</td>\n      <td>0.909604</td>\n      <td>0.859236</td>\n      <td>0.154964</td>\n      <td>0.772264</td>\n      <td>0.432009</td>\n    </tr>\n    <tr>\n      <th>1</th>\n      <td>0.143642</td>\n      <td>0.888581</td>\n      <td>0.304131</td>\n      <td>0.702437</td>\n      <td>0.952609</td>\n      <td>0.027689</td>\n      <td>0.325648</td>\n      <td>0.101302</td>\n      <td>0.491287</td>\n      <td>0.971621</td>\n      <td>...</td>\n      <td>0.770933</td>\n      <td>0.530315</td>\n      <td>0.759894</td>\n      <td>0.036298</td>\n      <td>0.422938</td>\n      <td>0.285150</td>\n      <td>0.709077</td>\n      <td>0.914524</td>\n      <td>0.275597</td>\n      <td>0.814530</td>\n    </tr>\n    <tr>\n      <th>2</th>\n      <td>0.748244</td>\n      <td>0.506050</td>\n      <td>0.238572</td>\n      <td>0.032909</td>\n      <td>0.117740</td>\n      <td>0.663750</td>\n      <td>0.486524</td>\n      <td>0.940651</td>\n      <td>0.384683</td>\n      <td>0.326248</td>\n      <td>...</td>\n      <td>0.161193</td>\n      <td>0.763079</td>\n      <td>0.789781</td>\n      <td>0.236846</td>\n      <td>0.318193</td>\n      <td>0.946108</td>\n      <td>0.708048</td>\n      <td>0.233251</td>\n      <td>0.155047</td>\n      <td>0.741752</td>\n    </tr>\n    <tr>\n      <th>3</th>\n      <td>0.724179</td>\n      <td>0.655571</td>\n      <td>0.636171</td>\n      <td>0.316830</td>\n      <td>0.275003</td>\n      <td>0.300462</td>\n      <td>0.247803</td>\n      <td>0.213863</td>\n      <td>0.509087</td>\n      <td>0.328180</td>\n      <td>...</td>\n      <td>0.821370</td>\n      <td>0.641889</td>\n      <td>0.080811</td>\n      <td>0.503829</td>\n      <td>0.405692</td>\n      <td>0.736098</td>\n      <td>0.593038</td>\n      <td>0.422623</td>\n      <td>0.858617</td>\n      <td>0.920588</td>\n    </tr>\n    <tr>\n      <th>4</th>\n      <td>0.010546</td>\n      <td>0.288565</td>\n      <td>0.735432</td>\n      <td>0.834574</td>\n      <td>0.104929</td>\n      <td>0.921374</td>\n      <td>0.375172</td>\n      <td>0.703290</td>\n      <td>0.145067</td>\n      <td>0.654591</td>\n      <td>...</td>\n      <td>0.538711</td>\n      <td>0.709982</td>\n      <td>0.358451</td>\n      <td>0.005194</td>\n      <td>0.281279</td>\n      <td>0.171292</td>\n      <td>0.893129</td>\n      <td>0.011452</td>\n      <td>0.573926</td>\n      <td>0.690373</td>\n    </tr>\n  </tbody>\n</table>\n<p>5 rows × 25 columns</p>\n</div>"
     },
     "execution_count": 7,
     "metadata": {},
     "output_type": "execute_result"
    }
   ],
   "source": [
    "# Initialise the user's features, starting with random\n",
    "# Columns are 25 features and rows are 600 users (changed to 5)\n",
    "# y_shape = (X.shape[1], reviews.shape[0])\n",
    "theta = pd.DataFrame(np.random.random((5, 25)))\n",
    "# theta.head()\n",
    "theta"
   ],
   "metadata": {
    "collapsed": false
   }
  },
  {
   "cell_type": "code",
   "execution_count": 8,
   "outputs": [
    {
     "data": {
      "text/plain": "   The Net  Happily N'Ever After  Tomorrowland  American Hero  Das Boot  \\\n0      0.0                   0.0           0.0            0.0       0.0   \n1      0.0                   0.0           0.0            0.0       0.0   \n2      0.0                   0.0           0.0            0.0       0.0   \n3      0.0                   0.0           0.0            0.0       0.0   \n4      0.0                   0.0           0.0            0.0       0.0   \n\n   Final Destination 3  Licence to Kill  The Hundred-Foot Journey  The Matrix  \\\n0                  0.0              0.0                       0.0         0.0   \n1                  0.0              0.0                       0.0         0.0   \n2                  0.0              0.0                       0.0         0.0   \n3                  0.0              0.0                       0.0         0.0   \n4                  0.0              0.0                       0.0         0.0   \n\n   Creature  ...  The Martian  Micmacs  Solomon and Sheba  \\\n0       0.0  ...          0.0      0.0                0.0   \n1       0.0  ...          0.0      0.0                0.0   \n2       0.0  ...          0.0      0.0                0.0   \n3       0.0  ...          0.0      0.0                0.0   \n4       0.0  ...          0.0      0.0                0.0   \n\n   In the Company of Men  Silent House  Big Fish  Get Real  Trading Places  \\\n0                    0.0           0.0       0.0       0.0             0.0   \n1                    0.0           0.0       0.0       0.0             0.0   \n2                    0.0           0.0       0.0       0.0             0.0   \n3                    0.0           0.0       0.0       0.0             0.0   \n4                    0.0           0.0       0.0       0.0             0.0   \n\n   DOA: Dead or Alive  Hey Arnold! The Movie  \n0                 0.0                    0.0  \n1                 0.0                    0.0  \n2                 0.0                    0.0  \n3                 0.0                    0.0  \n4                 0.0                    0.0  \n\n[5 rows x 2000 columns]",
      "text/html": "<div>\n<style scoped>\n    .dataframe tbody tr th:only-of-type {\n        vertical-align: middle;\n    }\n\n    .dataframe tbody tr th {\n        vertical-align: top;\n    }\n\n    .dataframe thead th {\n        text-align: right;\n    }\n</style>\n<table border=\"1\" class=\"dataframe\">\n  <thead>\n    <tr style=\"text-align: right;\">\n      <th></th>\n      <th>The Net</th>\n      <th>Happily N'Ever After</th>\n      <th>Tomorrowland</th>\n      <th>American Hero</th>\n      <th>Das Boot</th>\n      <th>Final Destination 3</th>\n      <th>Licence to Kill</th>\n      <th>The Hundred-Foot Journey</th>\n      <th>The Matrix</th>\n      <th>Creature</th>\n      <th>...</th>\n      <th>The Martian</th>\n      <th>Micmacs</th>\n      <th>Solomon and Sheba</th>\n      <th>In the Company of Men</th>\n      <th>Silent House</th>\n      <th>Big Fish</th>\n      <th>Get Real</th>\n      <th>Trading Places</th>\n      <th>DOA: Dead or Alive</th>\n      <th>Hey Arnold! The Movie</th>\n    </tr>\n  </thead>\n  <tbody>\n    <tr>\n      <th>0</th>\n      <td>0.0</td>\n      <td>0.0</td>\n      <td>0.0</td>\n      <td>0.0</td>\n      <td>0.0</td>\n      <td>0.0</td>\n      <td>0.0</td>\n      <td>0.0</td>\n      <td>0.0</td>\n      <td>0.0</td>\n      <td>...</td>\n      <td>0.0</td>\n      <td>0.0</td>\n      <td>0.0</td>\n      <td>0.0</td>\n      <td>0.0</td>\n      <td>0.0</td>\n      <td>0.0</td>\n      <td>0.0</td>\n      <td>0.0</td>\n      <td>0.0</td>\n    </tr>\n    <tr>\n      <th>1</th>\n      <td>0.0</td>\n      <td>0.0</td>\n      <td>0.0</td>\n      <td>0.0</td>\n      <td>0.0</td>\n      <td>0.0</td>\n      <td>0.0</td>\n      <td>0.0</td>\n      <td>0.0</td>\n      <td>0.0</td>\n      <td>...</td>\n      <td>0.0</td>\n      <td>0.0</td>\n      <td>0.0</td>\n      <td>0.0</td>\n      <td>0.0</td>\n      <td>0.0</td>\n      <td>0.0</td>\n      <td>0.0</td>\n      <td>0.0</td>\n      <td>0.0</td>\n    </tr>\n    <tr>\n      <th>2</th>\n      <td>0.0</td>\n      <td>0.0</td>\n      <td>0.0</td>\n      <td>0.0</td>\n      <td>0.0</td>\n      <td>0.0</td>\n      <td>0.0</td>\n      <td>0.0</td>\n      <td>0.0</td>\n      <td>0.0</td>\n      <td>...</td>\n      <td>0.0</td>\n      <td>0.0</td>\n      <td>0.0</td>\n      <td>0.0</td>\n      <td>0.0</td>\n      <td>0.0</td>\n      <td>0.0</td>\n      <td>0.0</td>\n      <td>0.0</td>\n      <td>0.0</td>\n    </tr>\n    <tr>\n      <th>3</th>\n      <td>0.0</td>\n      <td>0.0</td>\n      <td>0.0</td>\n      <td>0.0</td>\n      <td>0.0</td>\n      <td>0.0</td>\n      <td>0.0</td>\n      <td>0.0</td>\n      <td>0.0</td>\n      <td>0.0</td>\n      <td>...</td>\n      <td>0.0</td>\n      <td>0.0</td>\n      <td>0.0</td>\n      <td>0.0</td>\n      <td>0.0</td>\n      <td>0.0</td>\n      <td>0.0</td>\n      <td>0.0</td>\n      <td>0.0</td>\n      <td>0.0</td>\n    </tr>\n    <tr>\n      <th>4</th>\n      <td>0.0</td>\n      <td>0.0</td>\n      <td>0.0</td>\n      <td>0.0</td>\n      <td>0.0</td>\n      <td>0.0</td>\n      <td>0.0</td>\n      <td>0.0</td>\n      <td>0.0</td>\n      <td>0.0</td>\n      <td>...</td>\n      <td>0.0</td>\n      <td>0.0</td>\n      <td>0.0</td>\n      <td>0.0</td>\n      <td>0.0</td>\n      <td>0.0</td>\n      <td>0.0</td>\n      <td>0.0</td>\n      <td>0.0</td>\n      <td>0.0</td>\n    </tr>\n  </tbody>\n</table>\n<p>5 rows × 2000 columns</p>\n</div>"
     },
     "execution_count": 8,
     "metadata": {},
     "output_type": "execute_result"
    }
   ],
   "source": [
    "y = y.drop('User', axis=1)\n",
    "y"
   ],
   "metadata": {
    "collapsed": false
   }
  },
  {
   "cell_type": "code",
   "execution_count": 9,
   "outputs": [
    {
     "data": {
      "text/plain": "(5, 2000)"
     },
     "execution_count": 9,
     "metadata": {},
     "output_type": "execute_result"
    }
   ],
   "source": [
    "# (users, movies)\n",
    "y.shape"
   ],
   "metadata": {
    "collapsed": false
   }
  },
  {
   "cell_type": "code",
   "execution_count": 10,
   "outputs": [
    {
     "data": {
      "text/plain": "(2000, 25)"
     },
     "execution_count": 10,
     "metadata": {},
     "output_type": "execute_result"
    }
   ],
   "source": [
    "# (movies, features)\n",
    "X.shape"
   ],
   "metadata": {
    "collapsed": false
   }
  },
  {
   "cell_type": "code",
   "execution_count": 11,
   "outputs": [
    {
     "data": {
      "text/plain": "(5, 2001)"
     },
     "execution_count": 11,
     "metadata": {},
     "output_type": "execute_result"
    }
   ],
   "source": [
    "# (\n",
    "r.shape"
   ],
   "metadata": {
    "collapsed": false
   }
  },
  {
   "cell_type": "code",
   "execution_count": 74,
   "outputs": [
    {
     "name": "stdout",
     "output_type": "stream",
     "text": [
      "28.7577968421581\n",
      "28.316686863506177\n",
      "27.883061440625397\n",
      "27.45670283410822\n",
      "27.03740166489687\n",
      "26.624956664214153\n",
      "26.219174425507312\n",
      "25.81986915885306\n",
      "25.426862448221765\n",
      "25.039983011952785\n",
      "24.659066466749508\n",
      "24.283955095462563\n",
      "23.91449761889284\n",
      "23.550548971811633\n",
      "23.19197008336396\n",
      "22.838627661992312\n",
      "22.490393984992036\n",
      "22.14714669278548\n",
      "21.808768587980676\n",
      "21.475147439260603\n",
      "21.14617579013165\n",
      "20.821750772543915\n",
      "20.501773925382313\n",
      "20.186151017814506\n",
      "19.8747918774708\n",
      "19.567610223421582\n",
      "19.264523503908876\n",
      "18.965452738781867\n",
      "18.670322366578844\n",
      "18.379060096193825\n",
      "18.091596763059975\n",
      "17.8078661897795\n",
      "17.527805051125185\n",
      "17.251352743337076\n",
      "16.97845125763507\n",
      "16.709045057867023\n",
      "16.443080962210438\n",
      "16.180508028845267\n",
      "15.921277445514725\n",
      "15.665342422890966\n",
      "15.412658091662216\n",
      "15.163181403258712\n",
      "14.916871034134818\n",
      "14.673687293525521\n",
      "14.433592034596218\n",
      "14.196548568905513\n",
      "13.962521584101678\n",
      "13.731477064774602\n",
      "13.503382216385688\n",
      "13.278205392199887\n",
      "13.05591602314458\n",
      "12.836484550521558\n",
      "12.619882361499425\n",
      "12.406081727314689\n",
      "12.195055744111372\n",
      "11.98677827634976\n",
      "11.781223902716253\n",
      "11.578367864467273\n",
      "11.378186016141452\n",
      "11.180654778575214\n",
      "10.985751094158061\n",
      "10.793452384264945\n",
      "10.60373650880387\n",
      "10.416581727818278\n",
      "10.231966665084364\n",
      "10.04987027364458\n",
      "9.870271803219584\n",
      "9.693150769441667\n",
      "9.518486924853619\n",
      "9.34626023161802\n",
      "9.17645083588247\n",
      "9.009039043747553\n",
      "8.844005298784772\n",
      "8.681330161052779\n",
      "8.520994287560889\n",
      "8.362978414129769\n",
      "8.20726333859993\n",
      "8.053829905339441\n",
      "7.902658991003199\n",
      "7.753731491496648\n",
      "7.607028310097871\n",
      "7.4625303466925965\n",
      "7.320218488077553\n",
      "7.180073599288262\n",
      "7.042076515908385\n",
      "6.906208037318217\n",
      "6.7724489208410255\n",
      "6.640779876746527\n",
      "6.511181564071688\n",
      "6.3836345872198095\n",
      "6.25811949329972\n",
      "6.134616770167646\n",
      "6.013106845135241\n",
      "5.8935700843079974\n",
      "5.77598679251912\n",
      "5.6603372138248735\n",
      "5.54660153252807\n",
      "5.4347598746974\n",
      "5.324792310150999\n",
      "5.216678854873619\n"
     ]
    }
   ],
   "source": [
    "\n",
    "def g(X, y, r, theta, num_iter=100):\n",
    "    def cost(X, y, r, theta, eta=0.01):\n",
    "        \"\"\"Returns a prediction of the \"\"\"\n",
    "        predictions = np.dot(X, theta.T).T\n",
    "        err = predictions - y\n",
    "        # Make no reviews 0 again, but keep the same dimension\n",
    "        return 1/2 * np.sum(np.sum(np.square(err) * r))\n",
    "        # return 1 / 2 * np.sum(errors * r)\n",
    "\n",
    "    X = X.copy()\n",
    "    theta = theta.copy()\n",
    "    J_hist = []\n",
    "    for i in range(num_iter):\n",
    "        # c = cost(X, y, r, theta)\n",
    "        # inside = np.dot(X, theta.T).T - y\n",
    "        # theta = theta - (alpha * np.dot(inside, X))\n",
    "\n",
    "        c = cost(X, y, r, theta)\n",
    "        print(c)\n",
    "        # inside = np.dot(X, theta.T).T - y\n",
    "        # X = np.dot(inside, theta).T - y\n",
    "        X = X -  alpha*(np.dot(np.dot(X, theta.T) - y.T, theta) + eta*X)\n",
    "        theta = theta - alpha*(np.dot((np.dot(X, theta.T) - y.T).T, X) + eta*theta)\n",
    "\n",
    "        # inside = np.dot(X, theta.T).T - y\n",
    "        # theta = theta - (alpha * np.dot(inside, X))\n",
    "\n",
    "\n",
    "        # theta = theta - alpha * (np.dot())\n",
    "        J_hist.append(c)\n",
    "\n",
    "    return X, theta, J_hist\n",
    "# y.shape, cost().shape\n",
    "eta = 0.01\n",
    "alpha = 0.001\n",
    "X, theta, J_hist = g(X, y, r, theta)\n"
   ],
   "metadata": {
    "collapsed": false
   }
  },
  {
   "cell_type": "code",
   "execution_count": 51,
   "outputs": [
    {
     "data": {
      "text/plain": "         0         1         2         3         4         5         6   \\\n0  0.096953 -0.014263  0.029102 -0.021166 -0.019090 -0.065839 -0.018785   \n1 -0.021158 -0.020521  0.108952 -0.071606 -0.021343  0.011793  0.086032   \n2 -0.008304  0.019690 -0.004154  0.001652  0.100054  0.029220 -0.055838   \n3 -0.022466  0.008826 -0.065817 -0.022734  0.045887  0.022634 -0.038664   \n4  0.015877 -0.013582  0.153678  0.073914  0.033916 -0.028457 -0.037193   \n\n         7         8         9   ...        15        16        17        18  \\\n0  0.114637 -0.062756  0.084557  ...  0.003281  0.071162 -0.040097  0.062343   \n1  0.073742 -0.063724  0.030961  ... -0.023822  0.243364  0.540705  0.019263   \n2  0.028884 -0.014371  0.027366  ... -0.062295  0.419603  0.553812 -0.029372   \n3  0.043353  0.027369 -0.001225  ...  0.020539  0.355166  0.045617 -0.030557   \n4  0.038208  0.112417 -0.005539  ... -0.010707  0.398480  0.254180 -0.028378   \n\n         19        20        21        22        23        24  \n0 -0.006266  0.494847 -0.043656  0.012375 -0.099217 -0.080683  \n1  0.053758  0.117854  0.046402  0.014052  0.052800  0.098190  \n2 -0.005383  0.490030  0.058077  0.023542 -0.027124 -0.040913  \n3  0.013488  0.376737  0.040325  0.038587  0.006676  0.078423  \n4 -0.035206  0.096125 -0.009596  0.001398  0.021289 -0.019838  \n\n[5 rows x 25 columns]",
      "text/html": "<div>\n<style scoped>\n    .dataframe tbody tr th:only-of-type {\n        vertical-align: middle;\n    }\n\n    .dataframe tbody tr th {\n        vertical-align: top;\n    }\n\n    .dataframe thead th {\n        text-align: right;\n    }\n</style>\n<table border=\"1\" class=\"dataframe\">\n  <thead>\n    <tr style=\"text-align: right;\">\n      <th></th>\n      <th>0</th>\n      <th>1</th>\n      <th>2</th>\n      <th>3</th>\n      <th>4</th>\n      <th>5</th>\n      <th>6</th>\n      <th>7</th>\n      <th>8</th>\n      <th>9</th>\n      <th>...</th>\n      <th>15</th>\n      <th>16</th>\n      <th>17</th>\n      <th>18</th>\n      <th>19</th>\n      <th>20</th>\n      <th>21</th>\n      <th>22</th>\n      <th>23</th>\n      <th>24</th>\n    </tr>\n  </thead>\n  <tbody>\n    <tr>\n      <th>0</th>\n      <td>0.096953</td>\n      <td>-0.014263</td>\n      <td>0.029102</td>\n      <td>-0.021166</td>\n      <td>-0.019090</td>\n      <td>-0.065839</td>\n      <td>-0.018785</td>\n      <td>0.114637</td>\n      <td>-0.062756</td>\n      <td>0.084557</td>\n      <td>...</td>\n      <td>0.003281</td>\n      <td>0.071162</td>\n      <td>-0.040097</td>\n      <td>0.062343</td>\n      <td>-0.006266</td>\n      <td>0.494847</td>\n      <td>-0.043656</td>\n      <td>0.012375</td>\n      <td>-0.099217</td>\n      <td>-0.080683</td>\n    </tr>\n    <tr>\n      <th>1</th>\n      <td>-0.021158</td>\n      <td>-0.020521</td>\n      <td>0.108952</td>\n      <td>-0.071606</td>\n      <td>-0.021343</td>\n      <td>0.011793</td>\n      <td>0.086032</td>\n      <td>0.073742</td>\n      <td>-0.063724</td>\n      <td>0.030961</td>\n      <td>...</td>\n      <td>-0.023822</td>\n      <td>0.243364</td>\n      <td>0.540705</td>\n      <td>0.019263</td>\n      <td>0.053758</td>\n      <td>0.117854</td>\n      <td>0.046402</td>\n      <td>0.014052</td>\n      <td>0.052800</td>\n      <td>0.098190</td>\n    </tr>\n    <tr>\n      <th>2</th>\n      <td>-0.008304</td>\n      <td>0.019690</td>\n      <td>-0.004154</td>\n      <td>0.001652</td>\n      <td>0.100054</td>\n      <td>0.029220</td>\n      <td>-0.055838</td>\n      <td>0.028884</td>\n      <td>-0.014371</td>\n      <td>0.027366</td>\n      <td>...</td>\n      <td>-0.062295</td>\n      <td>0.419603</td>\n      <td>0.553812</td>\n      <td>-0.029372</td>\n      <td>-0.005383</td>\n      <td>0.490030</td>\n      <td>0.058077</td>\n      <td>0.023542</td>\n      <td>-0.027124</td>\n      <td>-0.040913</td>\n    </tr>\n    <tr>\n      <th>3</th>\n      <td>-0.022466</td>\n      <td>0.008826</td>\n      <td>-0.065817</td>\n      <td>-0.022734</td>\n      <td>0.045887</td>\n      <td>0.022634</td>\n      <td>-0.038664</td>\n      <td>0.043353</td>\n      <td>0.027369</td>\n      <td>-0.001225</td>\n      <td>...</td>\n      <td>0.020539</td>\n      <td>0.355166</td>\n      <td>0.045617</td>\n      <td>-0.030557</td>\n      <td>0.013488</td>\n      <td>0.376737</td>\n      <td>0.040325</td>\n      <td>0.038587</td>\n      <td>0.006676</td>\n      <td>0.078423</td>\n    </tr>\n    <tr>\n      <th>4</th>\n      <td>0.015877</td>\n      <td>-0.013582</td>\n      <td>0.153678</td>\n      <td>0.073914</td>\n      <td>0.033916</td>\n      <td>-0.028457</td>\n      <td>-0.037193</td>\n      <td>0.038208</td>\n      <td>0.112417</td>\n      <td>-0.005539</td>\n      <td>...</td>\n      <td>-0.010707</td>\n      <td>0.398480</td>\n      <td>0.254180</td>\n      <td>-0.028378</td>\n      <td>-0.035206</td>\n      <td>0.096125</td>\n      <td>-0.009596</td>\n      <td>0.001398</td>\n      <td>0.021289</td>\n      <td>-0.019838</td>\n    </tr>\n  </tbody>\n</table>\n<p>5 rows × 25 columns</p>\n</div>"
     },
     "execution_count": 51,
     "metadata": {},
     "output_type": "execute_result"
    }
   ],
   "source": [
    "theta"
   ],
   "metadata": {
    "collapsed": false
   }
  },
  {
   "cell_type": "code",
   "execution_count": 52,
   "outputs": [
    {
     "data": {
      "text/plain": "   The Net  Happily N'Ever After  Tomorrowland  American Hero  Das Boot  \\\n0      0.0                   0.0           0.0            0.0       0.0   \n1      0.0                   0.0           0.0            0.0       0.0   \n2      0.0                   0.0           0.0            0.0       0.0   \n3      0.0                   0.0           0.0            0.0       0.0   \n4      0.0                   0.0           0.0            0.0       0.0   \n\n   Final Destination 3  Licence to Kill  The Hundred-Foot Journey  The Matrix  \\\n0                  0.0              0.0                       0.0         0.0   \n1                  0.0              0.0                       0.0         0.0   \n2                  0.0              0.0                       0.0         0.0   \n3                  0.0              0.0                       0.0         0.0   \n4                  0.0              0.0                       0.0         0.0   \n\n   Creature  ...  The Martian  Micmacs  Solomon and Sheba  \\\n0       0.0  ...          0.0      0.0                0.0   \n1       0.0  ...          0.0      0.0                0.0   \n2       0.0  ...          0.0      0.0                0.0   \n3       0.0  ...          0.0      0.0                0.0   \n4       0.0  ...          0.0      0.0                0.0   \n\n   In the Company of Men  Silent House  Big Fish  Get Real  Trading Places  \\\n0                    0.0           0.0       0.0       0.0             0.0   \n1                    0.0           0.0       0.0       0.0             0.0   \n2                    0.0           0.0       0.0       0.0             0.0   \n3                    0.0           0.0       0.0       0.0             0.0   \n4                    0.0           0.0       0.0       0.0             0.0   \n\n   DOA: Dead or Alive  Hey Arnold! The Movie  \n0                 0.0                    0.0  \n1                 0.0                    0.0  \n2                 0.0                    0.0  \n3                 0.0                    0.0  \n4                 0.0                    0.0  \n\n[5 rows x 2000 columns]",
      "text/html": "<div>\n<style scoped>\n    .dataframe tbody tr th:only-of-type {\n        vertical-align: middle;\n    }\n\n    .dataframe tbody tr th {\n        vertical-align: top;\n    }\n\n    .dataframe thead th {\n        text-align: right;\n    }\n</style>\n<table border=\"1\" class=\"dataframe\">\n  <thead>\n    <tr style=\"text-align: right;\">\n      <th></th>\n      <th>The Net</th>\n      <th>Happily N'Ever After</th>\n      <th>Tomorrowland</th>\n      <th>American Hero</th>\n      <th>Das Boot</th>\n      <th>Final Destination 3</th>\n      <th>Licence to Kill</th>\n      <th>The Hundred-Foot Journey</th>\n      <th>The Matrix</th>\n      <th>Creature</th>\n      <th>...</th>\n      <th>The Martian</th>\n      <th>Micmacs</th>\n      <th>Solomon and Sheba</th>\n      <th>In the Company of Men</th>\n      <th>Silent House</th>\n      <th>Big Fish</th>\n      <th>Get Real</th>\n      <th>Trading Places</th>\n      <th>DOA: Dead or Alive</th>\n      <th>Hey Arnold! The Movie</th>\n    </tr>\n  </thead>\n  <tbody>\n    <tr>\n      <th>0</th>\n      <td>0.0</td>\n      <td>0.0</td>\n      <td>0.0</td>\n      <td>0.0</td>\n      <td>0.0</td>\n      <td>0.0</td>\n      <td>0.0</td>\n      <td>0.0</td>\n      <td>0.0</td>\n      <td>0.0</td>\n      <td>...</td>\n      <td>0.0</td>\n      <td>0.0</td>\n      <td>0.0</td>\n      <td>0.0</td>\n      <td>0.0</td>\n      <td>0.0</td>\n      <td>0.0</td>\n      <td>0.0</td>\n      <td>0.0</td>\n      <td>0.0</td>\n    </tr>\n    <tr>\n      <th>1</th>\n      <td>0.0</td>\n      <td>0.0</td>\n      <td>0.0</td>\n      <td>0.0</td>\n      <td>0.0</td>\n      <td>0.0</td>\n      <td>0.0</td>\n      <td>0.0</td>\n      <td>0.0</td>\n      <td>0.0</td>\n      <td>...</td>\n      <td>0.0</td>\n      <td>0.0</td>\n      <td>0.0</td>\n      <td>0.0</td>\n      <td>0.0</td>\n      <td>0.0</td>\n      <td>0.0</td>\n      <td>0.0</td>\n      <td>0.0</td>\n      <td>0.0</td>\n    </tr>\n    <tr>\n      <th>2</th>\n      <td>0.0</td>\n      <td>0.0</td>\n      <td>0.0</td>\n      <td>0.0</td>\n      <td>0.0</td>\n      <td>0.0</td>\n      <td>0.0</td>\n      <td>0.0</td>\n      <td>0.0</td>\n      <td>0.0</td>\n      <td>...</td>\n      <td>0.0</td>\n      <td>0.0</td>\n      <td>0.0</td>\n      <td>0.0</td>\n      <td>0.0</td>\n      <td>0.0</td>\n      <td>0.0</td>\n      <td>0.0</td>\n      <td>0.0</td>\n      <td>0.0</td>\n    </tr>\n    <tr>\n      <th>3</th>\n      <td>0.0</td>\n      <td>0.0</td>\n      <td>0.0</td>\n      <td>0.0</td>\n      <td>0.0</td>\n      <td>0.0</td>\n      <td>0.0</td>\n      <td>0.0</td>\n      <td>0.0</td>\n      <td>0.0</td>\n      <td>...</td>\n      <td>0.0</td>\n      <td>0.0</td>\n      <td>0.0</td>\n      <td>0.0</td>\n      <td>0.0</td>\n      <td>0.0</td>\n      <td>0.0</td>\n      <td>0.0</td>\n      <td>0.0</td>\n      <td>0.0</td>\n    </tr>\n    <tr>\n      <th>4</th>\n      <td>0.0</td>\n      <td>0.0</td>\n      <td>0.0</td>\n      <td>0.0</td>\n      <td>0.0</td>\n      <td>0.0</td>\n      <td>0.0</td>\n      <td>0.0</td>\n      <td>0.0</td>\n      <td>0.0</td>\n      <td>...</td>\n      <td>0.0</td>\n      <td>0.0</td>\n      <td>0.0</td>\n      <td>0.0</td>\n      <td>0.0</td>\n      <td>0.0</td>\n      <td>0.0</td>\n      <td>0.0</td>\n      <td>0.0</td>\n      <td>0.0</td>\n    </tr>\n  </tbody>\n</table>\n<p>5 rows × 2000 columns</p>\n</div>"
     },
     "execution_count": 52,
     "metadata": {},
     "output_type": "execute_result"
    }
   ],
   "source": [
    "y"
   ],
   "metadata": {
    "collapsed": false
   }
  },
  {
   "cell_type": "code",
   "execution_count": 53,
   "outputs": [
    {
     "name": "stdout",
     "output_type": "stream",
     "text": [
      "Vincent\n",
      "Edgar\n",
      "Addilyn\n",
      "Marlee\n",
      "Javier\n"
     ]
    }
   ],
   "source": [
    "user_reviews = {}\n",
    "for u in range(5):\n",
    "    uname = reviews.iloc[u]['User']\n",
    "    print(uname)\n",
    "    existing_reviews = {\n",
    "        f: y.iloc[u][f]\n",
    "        for f in y.columns.tolist()\n",
    "        if y.iloc[u][f]\n",
    "    }\n",
    "    user_reviews[uname] = existing_reviews\n",
    "\n",
    "\n"
   ],
   "metadata": {
    "collapsed": false
   }
  },
  {
   "cell_type": "code",
   "execution_count": 127,
   "outputs": [
    {
     "data": {
      "text/plain": "         0         1         2         3         4         5         6   \\\n0  0.166078 -0.059046  0.209096 -0.040406 -0.028766 -0.127994  0.050001   \n1 -0.039214 -0.093787  0.366697 -0.294829 -0.044275  0.009133  0.685856   \n2 -0.007835  0.077236 -0.174014  0.111488  0.112987  0.052530 -0.521166   \n3 -0.079057 -0.028388 -0.162043 -0.206900  0.049863  0.041346  0.120716   \n4  0.067202 -0.007915  0.306048  0.269248  0.035630 -0.082853 -0.331692   \n\n         7         8         9   ...        15        16        17        18  \\\n0  0.151387 -0.185033  0.127344  ...  0.007195 -0.772400 -1.261794  0.076323   \n1  0.067504 -0.271974  0.063576  ... -0.018704 -0.250333  2.896410  0.006492   \n2  0.025593  0.072538  0.017488  ... -0.086713  1.605184  3.125114 -0.042941   \n3  0.024652  0.034641  0.011597  ...  0.050348  3.366858 -1.287979 -0.052901   \n4  0.056336  0.158399 -0.040500  ... -0.042691  2.084333  0.051328 -0.011937   \n\n         19        20        21        22        23        24  \n0 -0.031396  4.140918 -0.134143 -0.004514 -0.235558 -0.198649  \n1  0.130906 -0.282570  0.182810  0.009336  0.064782  1.218450  \n2 -0.054418  2.096890  0.064025  0.031866 -0.020428 -0.804767  \n3  0.078772  0.568289  0.220339  0.050335  0.020122  1.277165  \n4 -0.092371 -0.813348 -0.160709 -0.003630  0.059298 -0.744204  \n\n[5 rows x 25 columns]",
      "text/html": "<div>\n<style scoped>\n    .dataframe tbody tr th:only-of-type {\n        vertical-align: middle;\n    }\n\n    .dataframe tbody tr th {\n        vertical-align: top;\n    }\n\n    .dataframe thead th {\n        text-align: right;\n    }\n</style>\n<table border=\"1\" class=\"dataframe\">\n  <thead>\n    <tr style=\"text-align: right;\">\n      <th></th>\n      <th>0</th>\n      <th>1</th>\n      <th>2</th>\n      <th>3</th>\n      <th>4</th>\n      <th>5</th>\n      <th>6</th>\n      <th>7</th>\n      <th>8</th>\n      <th>9</th>\n      <th>...</th>\n      <th>15</th>\n      <th>16</th>\n      <th>17</th>\n      <th>18</th>\n      <th>19</th>\n      <th>20</th>\n      <th>21</th>\n      <th>22</th>\n      <th>23</th>\n      <th>24</th>\n    </tr>\n  </thead>\n  <tbody>\n    <tr>\n      <th>0</th>\n      <td>0.166078</td>\n      <td>-0.059046</td>\n      <td>0.209096</td>\n      <td>-0.040406</td>\n      <td>-0.028766</td>\n      <td>-0.127994</td>\n      <td>0.050001</td>\n      <td>0.151387</td>\n      <td>-0.185033</td>\n      <td>0.127344</td>\n      <td>...</td>\n      <td>0.007195</td>\n      <td>-0.772400</td>\n      <td>-1.261794</td>\n      <td>0.076323</td>\n      <td>-0.031396</td>\n      <td>4.140918</td>\n      <td>-0.134143</td>\n      <td>-0.004514</td>\n      <td>-0.235558</td>\n      <td>-0.198649</td>\n    </tr>\n    <tr>\n      <th>1</th>\n      <td>-0.039214</td>\n      <td>-0.093787</td>\n      <td>0.366697</td>\n      <td>-0.294829</td>\n      <td>-0.044275</td>\n      <td>0.009133</td>\n      <td>0.685856</td>\n      <td>0.067504</td>\n      <td>-0.271974</td>\n      <td>0.063576</td>\n      <td>...</td>\n      <td>-0.018704</td>\n      <td>-0.250333</td>\n      <td>2.896410</td>\n      <td>0.006492</td>\n      <td>0.130906</td>\n      <td>-0.282570</td>\n      <td>0.182810</td>\n      <td>0.009336</td>\n      <td>0.064782</td>\n      <td>1.218450</td>\n    </tr>\n    <tr>\n      <th>2</th>\n      <td>-0.007835</td>\n      <td>0.077236</td>\n      <td>-0.174014</td>\n      <td>0.111488</td>\n      <td>0.112987</td>\n      <td>0.052530</td>\n      <td>-0.521166</td>\n      <td>0.025593</td>\n      <td>0.072538</td>\n      <td>0.017488</td>\n      <td>...</td>\n      <td>-0.086713</td>\n      <td>1.605184</td>\n      <td>3.125114</td>\n      <td>-0.042941</td>\n      <td>-0.054418</td>\n      <td>2.096890</td>\n      <td>0.064025</td>\n      <td>0.031866</td>\n      <td>-0.020428</td>\n      <td>-0.804767</td>\n    </tr>\n    <tr>\n      <th>3</th>\n      <td>-0.079057</td>\n      <td>-0.028388</td>\n      <td>-0.162043</td>\n      <td>-0.206900</td>\n      <td>0.049863</td>\n      <td>0.041346</td>\n      <td>0.120716</td>\n      <td>0.024652</td>\n      <td>0.034641</td>\n      <td>0.011597</td>\n      <td>...</td>\n      <td>0.050348</td>\n      <td>3.366858</td>\n      <td>-1.287979</td>\n      <td>-0.052901</td>\n      <td>0.078772</td>\n      <td>0.568289</td>\n      <td>0.220339</td>\n      <td>0.050335</td>\n      <td>0.020122</td>\n      <td>1.277165</td>\n    </tr>\n    <tr>\n      <th>4</th>\n      <td>0.067202</td>\n      <td>-0.007915</td>\n      <td>0.306048</td>\n      <td>0.269248</td>\n      <td>0.035630</td>\n      <td>-0.082853</td>\n      <td>-0.331692</td>\n      <td>0.056336</td>\n      <td>0.158399</td>\n      <td>-0.040500</td>\n      <td>...</td>\n      <td>-0.042691</td>\n      <td>2.084333</td>\n      <td>0.051328</td>\n      <td>-0.011937</td>\n      <td>-0.092371</td>\n      <td>-0.813348</td>\n      <td>-0.160709</td>\n      <td>-0.003630</td>\n      <td>0.059298</td>\n      <td>-0.744204</td>\n    </tr>\n  </tbody>\n</table>\n<p>5 rows × 25 columns</p>\n</div>"
     },
     "execution_count": 127,
     "metadata": {},
     "output_type": "execute_result"
    }
   ],
   "source": [
    "y_hat = y.copy()\n",
    "theta"
   ],
   "metadata": {
    "collapsed": false
   }
  },
  {
   "cell_type": "code",
   "execution_count": 148,
   "outputs": [
    {
     "name": "stdout",
     "output_type": "stream",
     "text": [
      "Vincent\n",
      "The Lady from Shanghai    0.032655\n",
      "Rebecca                   0.032486\n",
      "Niagara                   0.032390\n",
      "Deadline - U.S.A.         0.032244\n",
      "Paint Your Wagon          0.027868\n",
      "Name: 0, dtype: float64\n",
      "Edgar\n",
      "Paint Your Wagon                                     0.724341\n",
      "The Alamo                                            0.605179\n",
      "The Newton Boys                                      0.601513\n",
      "The Legend of Hell's Gate: An American Conspiracy    0.571871\n",
      "Back to the Future Part III                          0.546263\n",
      "Name: 1, dtype: float64\n",
      "Addilyn\n",
      "Now You See Me 2                 0.238249\n",
      "The Haunting of Molly Hartley    0.236204\n",
      "Machete Kills                    0.234616\n",
      "Eden                             0.226793\n",
      "Brother                          0.219956\n",
      "Name: 2, dtype: float64\n",
      "Marlee\n",
      "Paint Your Wagon                                     0.811389\n",
      "The Alamo                                            0.679395\n",
      "The Newton Boys                                      0.675319\n",
      "The Legend of Hell's Gate: An American Conspiracy    0.641812\n",
      "Back to the Future Part III                          0.613143\n",
      "Name: 3, dtype: float64\n",
      "Javier\n",
      "The Haunting of Molly Hartley    0.515294\n",
      "Now You See Me 2                 0.514050\n",
      "Machete Kills                    0.509059\n",
      "Eden                             0.493752\n",
      "Brother                          0.475669\n",
      "Name: 4, dtype: float64\n"
     ]
    }
   ],
   "source": [
    "y_hat = y.copy()\n",
    "\n",
    "for u in range(5):\n",
    "    uname = reviews.iloc[u]['User']\n",
    "    print(uname)\n",
    "    user_features = theta.iloc[u]\n",
    "    scores = []\n",
    "    for i, f in enumerate(y_hat.columns.tolist()):\n",
    "        film_features = X.iloc[i]\n",
    "        score = np.dot(film_features, user_features)\n",
    "        # scores.append(score)\n",
    "        y_hat.iloc[u][f] = score\n",
    "    best_choices = y_hat.drop(columns=list(user_reviews[uname].keys()), inplace=False).iloc[u].sort_values(ascending=False)\n",
    "    print(best_choices.head(5))\n",
    "\n",
    "    # break\n",
    "# sorted(scores, reverse=True)[0:20]\n"
   ],
   "metadata": {
    "collapsed": false
   }
  },
  {
   "cell_type": "code",
   "execution_count": 132,
   "outputs": [
    {
     "data": {
      "text/plain": "(5, 2000)"
     },
     "execution_count": 132,
     "metadata": {},
     "output_type": "execute_result"
    }
   ],
   "source": [
    "y_hat.shape"
   ],
   "metadata": {
    "collapsed": false
   }
  },
  {
   "cell_type": "code",
   "execution_count": 124,
   "outputs": [
    {
     "data": {
      "text/plain": "dict_keys(['About Last Night', 'Shattered', 'Passchendaele', 'Broken Arrow', 'Songcatcher', 'The Importance of Being Earnest', 'R.I.P.D.', 'Shine', 'The Scarlet Letter', 'Risen', 'Thirteen Conversations About One Thing', 'City of Angels', 'The Amazing Spider-Man 2', 'Nicholas Nickleby', 'Superman', 'Dawn of the Planet of the Apes', 'Predators', 'True Romance', \"The General's Daughter\", 'Riddick', \"Surf's Up\", 'Crossroads', 'About Time', 'House at the End of the Street', '3 Days to Kill', 'Magnolia', 'The Curious Case of Benjamin Button', 'The Secret Life of Walter Mitty', 'The Dangerous Lives of Altar Boys', 'Iris', 'In the Name of the King: A Dungeon Siege Tale', 'Across the Universe', 'Shopgirl', 'No Strings Attached', 'You Can Count on Me', 'Next Day Air', 'Enter Nowhere', 'Tidal Wave', 'Stone Cold'])"
     },
     "execution_count": 124,
     "metadata": {},
     "output_type": "execute_result"
    }
   ],
   "source": [
    "victors_choices = y_hat.iloc[0].sort_values(ascending=False).index.tolist()\n",
    "list(user_reviews['Vincent'].keys())"
   ],
   "metadata": {
    "collapsed": false
   }
  },
  {
   "cell_type": "code",
   "execution_count": 141,
   "outputs": [
    {
     "data": {
      "text/plain": "    The Net  Happily N'Ever After  Tomorrowland  American Hero  Das Boot  \\\n0 -0.000074             -0.002503     -0.001976       0.000476 -0.001202   \n1  0.005551             -0.075340     -0.041855       0.005547 -0.024928   \n2  0.000000              0.000000      0.000000       0.000000  0.000000   \n3  0.000000              0.000000      0.000000       0.000000  0.000000   \n4  0.000000              0.000000      0.000000       0.000000  0.000000   \n\n   Final Destination 3  Licence to Kill  The Hundred-Foot Journey  The Matrix  \\\n0            -0.000612        -0.001420                 -0.000369    0.000845   \n1            -0.017220        -0.037979                 -0.011327    0.016875   \n2             0.000000         0.000000                  0.000000    0.000000   \n3             0.000000         0.000000                  0.000000    0.000000   \n4             0.000000         0.000000                  0.000000    0.000000   \n\n   Creature  ...  The Martian   Micmacs  Solomon and Sheba  \\\n0  0.000912  ...     0.000467 -0.000733           0.002336   \n1  0.027113  ...     0.015692 -0.017502           0.066303   \n2  0.000000  ...     0.000000  0.000000           0.000000   \n3  0.000000  ...     0.000000  0.000000           0.000000   \n4  0.000000  ...     0.000000  0.000000           0.000000   \n\n   In the Company of Men  Silent House  Big Fish  Get Real  Trading Places  \\\n0              -0.000369     -0.000262 -0.000390 -0.000433       -0.000309   \n1              -0.011327     -0.001979 -0.009869 -0.015336       -0.007812   \n2               0.000000      0.000000  0.000000  0.000000        0.000000   \n3               0.000000      0.000000  0.000000  0.000000        0.000000   \n4               0.000000      0.000000  0.000000  0.000000        0.000000   \n\n   DOA: Dead or Alive  Hey Arnold! The Movie  \n0           -0.001505              -0.003086  \n1           -0.042847              -0.089243  \n2            0.000000               0.000000  \n3            0.000000               0.000000  \n4            0.000000               0.000000  \n\n[5 rows x 2000 columns]",
      "text/html": "<div>\n<style scoped>\n    .dataframe tbody tr th:only-of-type {\n        vertical-align: middle;\n    }\n\n    .dataframe tbody tr th {\n        vertical-align: top;\n    }\n\n    .dataframe thead th {\n        text-align: right;\n    }\n</style>\n<table border=\"1\" class=\"dataframe\">\n  <thead>\n    <tr style=\"text-align: right;\">\n      <th></th>\n      <th>The Net</th>\n      <th>Happily N'Ever After</th>\n      <th>Tomorrowland</th>\n      <th>American Hero</th>\n      <th>Das Boot</th>\n      <th>Final Destination 3</th>\n      <th>Licence to Kill</th>\n      <th>The Hundred-Foot Journey</th>\n      <th>The Matrix</th>\n      <th>Creature</th>\n      <th>...</th>\n      <th>The Martian</th>\n      <th>Micmacs</th>\n      <th>Solomon and Sheba</th>\n      <th>In the Company of Men</th>\n      <th>Silent House</th>\n      <th>Big Fish</th>\n      <th>Get Real</th>\n      <th>Trading Places</th>\n      <th>DOA: Dead or Alive</th>\n      <th>Hey Arnold! The Movie</th>\n    </tr>\n  </thead>\n  <tbody>\n    <tr>\n      <th>0</th>\n      <td>-0.000074</td>\n      <td>-0.002503</td>\n      <td>-0.001976</td>\n      <td>0.000476</td>\n      <td>-0.001202</td>\n      <td>-0.000612</td>\n      <td>-0.001420</td>\n      <td>-0.000369</td>\n      <td>0.000845</td>\n      <td>0.000912</td>\n      <td>...</td>\n      <td>0.000467</td>\n      <td>-0.000733</td>\n      <td>0.002336</td>\n      <td>-0.000369</td>\n      <td>-0.000262</td>\n      <td>-0.000390</td>\n      <td>-0.000433</td>\n      <td>-0.000309</td>\n      <td>-0.001505</td>\n      <td>-0.003086</td>\n    </tr>\n    <tr>\n      <th>1</th>\n      <td>0.005551</td>\n      <td>-0.075340</td>\n      <td>-0.041855</td>\n      <td>0.005547</td>\n      <td>-0.024928</td>\n      <td>-0.017220</td>\n      <td>-0.037979</td>\n      <td>-0.011327</td>\n      <td>0.016875</td>\n      <td>0.027113</td>\n      <td>...</td>\n      <td>0.015692</td>\n      <td>-0.017502</td>\n      <td>0.066303</td>\n      <td>-0.011327</td>\n      <td>-0.001979</td>\n      <td>-0.009869</td>\n      <td>-0.015336</td>\n      <td>-0.007812</td>\n      <td>-0.042847</td>\n      <td>-0.089243</td>\n    </tr>\n    <tr>\n      <th>2</th>\n      <td>0.000000</td>\n      <td>0.000000</td>\n      <td>0.000000</td>\n      <td>0.000000</td>\n      <td>0.000000</td>\n      <td>0.000000</td>\n      <td>0.000000</td>\n      <td>0.000000</td>\n      <td>0.000000</td>\n      <td>0.000000</td>\n      <td>...</td>\n      <td>0.000000</td>\n      <td>0.000000</td>\n      <td>0.000000</td>\n      <td>0.000000</td>\n      <td>0.000000</td>\n      <td>0.000000</td>\n      <td>0.000000</td>\n      <td>0.000000</td>\n      <td>0.000000</td>\n      <td>0.000000</td>\n    </tr>\n    <tr>\n      <th>3</th>\n      <td>0.000000</td>\n      <td>0.000000</td>\n      <td>0.000000</td>\n      <td>0.000000</td>\n      <td>0.000000</td>\n      <td>0.000000</td>\n      <td>0.000000</td>\n      <td>0.000000</td>\n      <td>0.000000</td>\n      <td>0.000000</td>\n      <td>...</td>\n      <td>0.000000</td>\n      <td>0.000000</td>\n      <td>0.000000</td>\n      <td>0.000000</td>\n      <td>0.000000</td>\n      <td>0.000000</td>\n      <td>0.000000</td>\n      <td>0.000000</td>\n      <td>0.000000</td>\n      <td>0.000000</td>\n    </tr>\n    <tr>\n      <th>4</th>\n      <td>0.000000</td>\n      <td>0.000000</td>\n      <td>0.000000</td>\n      <td>0.000000</td>\n      <td>0.000000</td>\n      <td>0.000000</td>\n      <td>0.000000</td>\n      <td>0.000000</td>\n      <td>0.000000</td>\n      <td>0.000000</td>\n      <td>...</td>\n      <td>0.000000</td>\n      <td>0.000000</td>\n      <td>0.000000</td>\n      <td>0.000000</td>\n      <td>0.000000</td>\n      <td>0.000000</td>\n      <td>0.000000</td>\n      <td>0.000000</td>\n      <td>0.000000</td>\n      <td>0.000000</td>\n    </tr>\n  </tbody>\n</table>\n<p>5 rows × 2000 columns</p>\n</div>"
     },
     "execution_count": 141,
     "metadata": {},
     "output_type": "execute_result"
    }
   ],
   "source": [
    "y_hat"
   ],
   "metadata": {
    "collapsed": false
   }
  },
  {
   "cell_type": "code",
   "execution_count": 138,
   "outputs": [
    {
     "data": {
      "text/plain": "'Edgar'"
     },
     "execution_count": 138,
     "metadata": {},
     "output_type": "execute_result"
    }
   ],
   "source": [
    "reviews.iloc[1]['User']"
   ],
   "metadata": {
    "collapsed": false
   }
  }
 ],
 "metadata": {
  "kernelspec": {
   "display_name": "Python 3",
   "language": "python",
   "name": "python3"
  },
  "language_info": {
   "codemirror_mode": {
    "name": "ipython",
    "version": 2
   },
   "file_extension": ".py",
   "mimetype": "text/x-python",
   "name": "python",
   "nbconvert_exporter": "python",
   "pygments_lexer": "ipython2",
   "version": "2.7.6"
  }
 },
 "nbformat": 4,
 "nbformat_minor": 0
}
