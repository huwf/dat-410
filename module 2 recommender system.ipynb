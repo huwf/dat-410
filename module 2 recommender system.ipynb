{
 "cells": [
  {
   "cell_type": "code",
   "execution_count": 1,
   "metadata": {
    "collapsed": true
   },
   "outputs": [],
   "source": [
    "import numpy as np\n",
    "import pandas as pd\n"
   ]
  },
  {
   "cell_type": "code",
   "execution_count": 2,
   "outputs": [
    {
     "data": {
      "text/plain": "            movie_title  genre_action  genre_adventure  genre_animation  \\\n0               The Net             1                0                0   \n1  Happily N'Ever After             0                1                1   \n2          Tomorrowland             1                1                0   \n3         American Hero             1                0                0   \n4              Das Boot             0                1                0   \n\n   genre_biography  genre_comedy  genre_crime  genre_documentary  genre_drama  \\\n0                0             0            1                  0            1   \n1                0             1            0                  0            0   \n2                0             0            0                  0            0   \n3                0             1            0                  0            1   \n4                0             0            0                  0            1   \n\n   genre_family  ...  genre_mystery  genre_news  genre_reality-tv  \\\n0             0  ...              1           0                 0   \n1             1  ...              0           0                 0   \n2             1  ...              1           0                 0   \n3             0  ...              0           0                 0   \n4             0  ...              0           0                 0   \n\n   genre_romance  genre_sci-fi  genre_short  genre_sport  genre_thriller  \\\n0              0             0            0            0               1   \n1              0             0            0            0               0   \n2              0             1            0            0               0   \n3              0             1            0            0               0   \n4              0             0            0            0               1   \n\n   genre_war  genre_western  \n0          0              0  \n1          0              0  \n2          0              0  \n3          0              0  \n4          1              0  \n\n[5 rows x 26 columns]",
      "text/html": "<div>\n<style scoped>\n    .dataframe tbody tr th:only-of-type {\n        vertical-align: middle;\n    }\n\n    .dataframe tbody tr th {\n        vertical-align: top;\n    }\n\n    .dataframe thead th {\n        text-align: right;\n    }\n</style>\n<table border=\"1\" class=\"dataframe\">\n  <thead>\n    <tr style=\"text-align: right;\">\n      <th></th>\n      <th>movie_title</th>\n      <th>genre_action</th>\n      <th>genre_adventure</th>\n      <th>genre_animation</th>\n      <th>genre_biography</th>\n      <th>genre_comedy</th>\n      <th>genre_crime</th>\n      <th>genre_documentary</th>\n      <th>genre_drama</th>\n      <th>genre_family</th>\n      <th>...</th>\n      <th>genre_mystery</th>\n      <th>genre_news</th>\n      <th>genre_reality-tv</th>\n      <th>genre_romance</th>\n      <th>genre_sci-fi</th>\n      <th>genre_short</th>\n      <th>genre_sport</th>\n      <th>genre_thriller</th>\n      <th>genre_war</th>\n      <th>genre_western</th>\n    </tr>\n  </thead>\n  <tbody>\n    <tr>\n      <th>0</th>\n      <td>The Net</td>\n      <td>1</td>\n      <td>0</td>\n      <td>0</td>\n      <td>0</td>\n      <td>0</td>\n      <td>1</td>\n      <td>0</td>\n      <td>1</td>\n      <td>0</td>\n      <td>...</td>\n      <td>1</td>\n      <td>0</td>\n      <td>0</td>\n      <td>0</td>\n      <td>0</td>\n      <td>0</td>\n      <td>0</td>\n      <td>1</td>\n      <td>0</td>\n      <td>0</td>\n    </tr>\n    <tr>\n      <th>1</th>\n      <td>Happily N'Ever After</td>\n      <td>0</td>\n      <td>1</td>\n      <td>1</td>\n      <td>0</td>\n      <td>1</td>\n      <td>0</td>\n      <td>0</td>\n      <td>0</td>\n      <td>1</td>\n      <td>...</td>\n      <td>0</td>\n      <td>0</td>\n      <td>0</td>\n      <td>0</td>\n      <td>0</td>\n      <td>0</td>\n      <td>0</td>\n      <td>0</td>\n      <td>0</td>\n      <td>0</td>\n    </tr>\n    <tr>\n      <th>2</th>\n      <td>Tomorrowland</td>\n      <td>1</td>\n      <td>1</td>\n      <td>0</td>\n      <td>0</td>\n      <td>0</td>\n      <td>0</td>\n      <td>0</td>\n      <td>0</td>\n      <td>1</td>\n      <td>...</td>\n      <td>1</td>\n      <td>0</td>\n      <td>0</td>\n      <td>0</td>\n      <td>1</td>\n      <td>0</td>\n      <td>0</td>\n      <td>0</td>\n      <td>0</td>\n      <td>0</td>\n    </tr>\n    <tr>\n      <th>3</th>\n      <td>American Hero</td>\n      <td>1</td>\n      <td>0</td>\n      <td>0</td>\n      <td>0</td>\n      <td>1</td>\n      <td>0</td>\n      <td>0</td>\n      <td>1</td>\n      <td>0</td>\n      <td>...</td>\n      <td>0</td>\n      <td>0</td>\n      <td>0</td>\n      <td>0</td>\n      <td>1</td>\n      <td>0</td>\n      <td>0</td>\n      <td>0</td>\n      <td>0</td>\n      <td>0</td>\n    </tr>\n    <tr>\n      <th>4</th>\n      <td>Das Boot</td>\n      <td>0</td>\n      <td>1</td>\n      <td>0</td>\n      <td>0</td>\n      <td>0</td>\n      <td>0</td>\n      <td>0</td>\n      <td>1</td>\n      <td>0</td>\n      <td>...</td>\n      <td>0</td>\n      <td>0</td>\n      <td>0</td>\n      <td>0</td>\n      <td>0</td>\n      <td>0</td>\n      <td>0</td>\n      <td>1</td>\n      <td>1</td>\n      <td>0</td>\n    </tr>\n  </tbody>\n</table>\n<p>5 rows × 26 columns</p>\n</div>"
     },
     "execution_count": 2,
     "metadata": {},
     "output_type": "execute_result"
    }
   ],
   "source": [
    "genres = pd.read_csv('data/movie_genres.csv').drop('Unnamed: 0', axis=1)\n",
    "genres.head()\n"
   ],
   "metadata": {
    "collapsed": false
   }
  },
  {
   "cell_type": "code",
   "execution_count": 3,
   "outputs": [
    {
     "data": {
      "text/plain": "   genre_action  genre_adventure  genre_animation  genre_biography  \\\n0             1                0                0                0   \n1             0                1                1                0   \n2             1                1                0                0   \n3             1                0                0                0   \n4             0                1                0                0   \n\n   genre_comedy  genre_crime  genre_documentary  genre_drama  genre_family  \\\n0             0            1                  0            1             0   \n1             1            0                  0            0             1   \n2             0            0                  0            0             1   \n3             1            0                  0            1             0   \n4             0            0                  0            1             0   \n\n   genre_fantasy  ...  genre_mystery  genre_news  genre_reality-tv  \\\n0              0  ...              1           0                 0   \n1              1  ...              0           0                 0   \n2              0  ...              1           0                 0   \n3              0  ...              0           0                 0   \n4              0  ...              0           0                 0   \n\n   genre_romance  genre_sci-fi  genre_short  genre_sport  genre_thriller  \\\n0              0             0            0            0               1   \n1              0             0            0            0               0   \n2              0             1            0            0               0   \n3              0             1            0            0               0   \n4              0             0            0            0               1   \n\n   genre_war  genre_western  \n0          0              0  \n1          0              0  \n2          0              0  \n3          0              0  \n4          1              0  \n\n[5 rows x 25 columns]",
      "text/html": "<div>\n<style scoped>\n    .dataframe tbody tr th:only-of-type {\n        vertical-align: middle;\n    }\n\n    .dataframe tbody tr th {\n        vertical-align: top;\n    }\n\n    .dataframe thead th {\n        text-align: right;\n    }\n</style>\n<table border=\"1\" class=\"dataframe\">\n  <thead>\n    <tr style=\"text-align: right;\">\n      <th></th>\n      <th>genre_action</th>\n      <th>genre_adventure</th>\n      <th>genre_animation</th>\n      <th>genre_biography</th>\n      <th>genre_comedy</th>\n      <th>genre_crime</th>\n      <th>genre_documentary</th>\n      <th>genre_drama</th>\n      <th>genre_family</th>\n      <th>genre_fantasy</th>\n      <th>...</th>\n      <th>genre_mystery</th>\n      <th>genre_news</th>\n      <th>genre_reality-tv</th>\n      <th>genre_romance</th>\n      <th>genre_sci-fi</th>\n      <th>genre_short</th>\n      <th>genre_sport</th>\n      <th>genre_thriller</th>\n      <th>genre_war</th>\n      <th>genre_western</th>\n    </tr>\n  </thead>\n  <tbody>\n    <tr>\n      <th>0</th>\n      <td>1</td>\n      <td>0</td>\n      <td>0</td>\n      <td>0</td>\n      <td>0</td>\n      <td>1</td>\n      <td>0</td>\n      <td>1</td>\n      <td>0</td>\n      <td>0</td>\n      <td>...</td>\n      <td>1</td>\n      <td>0</td>\n      <td>0</td>\n      <td>0</td>\n      <td>0</td>\n      <td>0</td>\n      <td>0</td>\n      <td>1</td>\n      <td>0</td>\n      <td>0</td>\n    </tr>\n    <tr>\n      <th>1</th>\n      <td>0</td>\n      <td>1</td>\n      <td>1</td>\n      <td>0</td>\n      <td>1</td>\n      <td>0</td>\n      <td>0</td>\n      <td>0</td>\n      <td>1</td>\n      <td>1</td>\n      <td>...</td>\n      <td>0</td>\n      <td>0</td>\n      <td>0</td>\n      <td>0</td>\n      <td>0</td>\n      <td>0</td>\n      <td>0</td>\n      <td>0</td>\n      <td>0</td>\n      <td>0</td>\n    </tr>\n    <tr>\n      <th>2</th>\n      <td>1</td>\n      <td>1</td>\n      <td>0</td>\n      <td>0</td>\n      <td>0</td>\n      <td>0</td>\n      <td>0</td>\n      <td>0</td>\n      <td>1</td>\n      <td>0</td>\n      <td>...</td>\n      <td>1</td>\n      <td>0</td>\n      <td>0</td>\n      <td>0</td>\n      <td>1</td>\n      <td>0</td>\n      <td>0</td>\n      <td>0</td>\n      <td>0</td>\n      <td>0</td>\n    </tr>\n    <tr>\n      <th>3</th>\n      <td>1</td>\n      <td>0</td>\n      <td>0</td>\n      <td>0</td>\n      <td>1</td>\n      <td>0</td>\n      <td>0</td>\n      <td>1</td>\n      <td>0</td>\n      <td>0</td>\n      <td>...</td>\n      <td>0</td>\n      <td>0</td>\n      <td>0</td>\n      <td>0</td>\n      <td>1</td>\n      <td>0</td>\n      <td>0</td>\n      <td>0</td>\n      <td>0</td>\n      <td>0</td>\n    </tr>\n    <tr>\n      <th>4</th>\n      <td>0</td>\n      <td>1</td>\n      <td>0</td>\n      <td>0</td>\n      <td>0</td>\n      <td>0</td>\n      <td>0</td>\n      <td>1</td>\n      <td>0</td>\n      <td>0</td>\n      <td>...</td>\n      <td>0</td>\n      <td>0</td>\n      <td>0</td>\n      <td>0</td>\n      <td>0</td>\n      <td>0</td>\n      <td>0</td>\n      <td>1</td>\n      <td>1</td>\n      <td>0</td>\n    </tr>\n  </tbody>\n</table>\n<p>5 rows × 25 columns</p>\n</div>"
     },
     "execution_count": 3,
     "metadata": {},
     "output_type": "execute_result"
    }
   ],
   "source": [
    "X = genres.drop(columns=['movie_title'])\n",
    "X.head()"
   ],
   "metadata": {
    "collapsed": false
   }
  },
  {
   "cell_type": "code",
   "execution_count": 4,
   "outputs": [
    {
     "data": {
      "text/plain": "User                     600\nThe Net                  600\nHappily N'Ever After     600\nTomorrowland             600\nAmerican Hero            600\n                        ... \nBig Fish                 600\nGet Real                 600\nTrading Places           600\nDOA: Dead or Alive       600\nHey Arnold! The Movie    600\nLength: 2001, dtype: int64"
     },
     "execution_count": 4,
     "metadata": {},
     "output_type": "execute_result"
    }
   ],
   "source": [
    "reviews = pd.read_csv('data/user_reviews.csv').drop('Unnamed: 0', axis=1)\n",
    "reviews.count()"
   ],
   "metadata": {
    "collapsed": false
   }
  },
  {
   "cell_type": "code",
   "execution_count": 5,
   "outputs": [
    {
     "data": {
      "text/plain": "      User  The Net  Happily N'Ever After  Tomorrowland  American Hero  \\\n0  Vincent      0.0                   0.0           0.0            0.0   \n1    Edgar      0.0                   0.0           0.0            0.0   \n2  Addilyn      0.0                   0.0           0.0            0.0   \n3   Marlee      0.0                   0.0           0.0            0.0   \n4   Javier      0.0                   0.0           0.0            0.0   \n\n   Das Boot  Final Destination 3  Licence to Kill  The Hundred-Foot Journey  \\\n0       0.0                  0.0              0.0                       0.0   \n1       0.0                  0.0              0.0                       0.0   \n2       0.0                  0.0              0.0                       0.0   \n3       0.0                  0.0              0.0                       0.0   \n4       0.0                  0.0              0.0                       0.0   \n\n   The Matrix  ...  The Martian  Micmacs  Solomon and Sheba  \\\n0         0.0  ...          0.0      0.0                0.0   \n1         0.0  ...          0.0      0.0                0.0   \n2         0.0  ...          0.0      0.0                0.0   \n3         0.0  ...          0.0      0.0                0.0   \n4         0.0  ...          0.0      0.0                0.0   \n\n   In the Company of Men  Silent House  Big Fish  Get Real  Trading Places  \\\n0                    0.0           0.0       0.0       0.0             0.0   \n1                    0.0           0.0       0.0       0.0             0.0   \n2                    0.0           0.0       0.0       0.0             0.0   \n3                    0.0           0.0       0.0       0.0             0.0   \n4                    0.0           0.0       0.0       0.0             0.0   \n\n   DOA: Dead or Alive  Hey Arnold! The Movie  \n0                 0.0                    0.0  \n1                 0.0                    0.0  \n2                 0.0                    0.0  \n3                 0.0                    0.0  \n4                 0.0                    0.0  \n\n[5 rows x 2001 columns]",
      "text/html": "<div>\n<style scoped>\n    .dataframe tbody tr th:only-of-type {\n        vertical-align: middle;\n    }\n\n    .dataframe tbody tr th {\n        vertical-align: top;\n    }\n\n    .dataframe thead th {\n        text-align: right;\n    }\n</style>\n<table border=\"1\" class=\"dataframe\">\n  <thead>\n    <tr style=\"text-align: right;\">\n      <th></th>\n      <th>User</th>\n      <th>The Net</th>\n      <th>Happily N'Ever After</th>\n      <th>Tomorrowland</th>\n      <th>American Hero</th>\n      <th>Das Boot</th>\n      <th>Final Destination 3</th>\n      <th>Licence to Kill</th>\n      <th>The Hundred-Foot Journey</th>\n      <th>The Matrix</th>\n      <th>...</th>\n      <th>The Martian</th>\n      <th>Micmacs</th>\n      <th>Solomon and Sheba</th>\n      <th>In the Company of Men</th>\n      <th>Silent House</th>\n      <th>Big Fish</th>\n      <th>Get Real</th>\n      <th>Trading Places</th>\n      <th>DOA: Dead or Alive</th>\n      <th>Hey Arnold! The Movie</th>\n    </tr>\n  </thead>\n  <tbody>\n    <tr>\n      <th>0</th>\n      <td>Vincent</td>\n      <td>0.0</td>\n      <td>0.0</td>\n      <td>0.0</td>\n      <td>0.0</td>\n      <td>0.0</td>\n      <td>0.0</td>\n      <td>0.0</td>\n      <td>0.0</td>\n      <td>0.0</td>\n      <td>...</td>\n      <td>0.0</td>\n      <td>0.0</td>\n      <td>0.0</td>\n      <td>0.0</td>\n      <td>0.0</td>\n      <td>0.0</td>\n      <td>0.0</td>\n      <td>0.0</td>\n      <td>0.0</td>\n      <td>0.0</td>\n    </tr>\n    <tr>\n      <th>1</th>\n      <td>Edgar</td>\n      <td>0.0</td>\n      <td>0.0</td>\n      <td>0.0</td>\n      <td>0.0</td>\n      <td>0.0</td>\n      <td>0.0</td>\n      <td>0.0</td>\n      <td>0.0</td>\n      <td>0.0</td>\n      <td>...</td>\n      <td>0.0</td>\n      <td>0.0</td>\n      <td>0.0</td>\n      <td>0.0</td>\n      <td>0.0</td>\n      <td>0.0</td>\n      <td>0.0</td>\n      <td>0.0</td>\n      <td>0.0</td>\n      <td>0.0</td>\n    </tr>\n    <tr>\n      <th>2</th>\n      <td>Addilyn</td>\n      <td>0.0</td>\n      <td>0.0</td>\n      <td>0.0</td>\n      <td>0.0</td>\n      <td>0.0</td>\n      <td>0.0</td>\n      <td>0.0</td>\n      <td>0.0</td>\n      <td>0.0</td>\n      <td>...</td>\n      <td>0.0</td>\n      <td>0.0</td>\n      <td>0.0</td>\n      <td>0.0</td>\n      <td>0.0</td>\n      <td>0.0</td>\n      <td>0.0</td>\n      <td>0.0</td>\n      <td>0.0</td>\n      <td>0.0</td>\n    </tr>\n    <tr>\n      <th>3</th>\n      <td>Marlee</td>\n      <td>0.0</td>\n      <td>0.0</td>\n      <td>0.0</td>\n      <td>0.0</td>\n      <td>0.0</td>\n      <td>0.0</td>\n      <td>0.0</td>\n      <td>0.0</td>\n      <td>0.0</td>\n      <td>...</td>\n      <td>0.0</td>\n      <td>0.0</td>\n      <td>0.0</td>\n      <td>0.0</td>\n      <td>0.0</td>\n      <td>0.0</td>\n      <td>0.0</td>\n      <td>0.0</td>\n      <td>0.0</td>\n      <td>0.0</td>\n    </tr>\n    <tr>\n      <th>4</th>\n      <td>Javier</td>\n      <td>0.0</td>\n      <td>0.0</td>\n      <td>0.0</td>\n      <td>0.0</td>\n      <td>0.0</td>\n      <td>0.0</td>\n      <td>0.0</td>\n      <td>0.0</td>\n      <td>0.0</td>\n      <td>...</td>\n      <td>0.0</td>\n      <td>0.0</td>\n      <td>0.0</td>\n      <td>0.0</td>\n      <td>0.0</td>\n      <td>0.0</td>\n      <td>0.0</td>\n      <td>0.0</td>\n      <td>0.0</td>\n      <td>0.0</td>\n    </tr>\n  </tbody>\n</table>\n<p>5 rows × 2001 columns</p>\n</div>"
     },
     "execution_count": 5,
     "metadata": {},
     "output_type": "execute_result"
    }
   ],
   "source": [
    "# Limit amount of users to 5\n",
    "y = reviews.head(5)\n",
    "y"
   ],
   "metadata": {
    "collapsed": false
   }
  },
  {
   "cell_type": "code",
   "execution_count": 6,
   "outputs": [],
   "source": [
    "# Use this to remove unrated movies from the loss function\n",
    "r = y.astype('bool').astype('int')"
   ],
   "metadata": {
    "collapsed": false
   }
  },
  {
   "cell_type": "code",
   "execution_count": 7,
   "outputs": [
    {
     "data": {
      "text/plain": "         0         1         2         3         4         5         6   \\\n0  0.000108  0.887797  0.504205  0.136096  0.194494  0.607874  0.565551   \n1  0.143642  0.888581  0.304131  0.702437  0.952609  0.027689  0.325648   \n2  0.748244  0.506050  0.238572  0.032909  0.117740  0.663750  0.486524   \n3  0.724179  0.655571  0.636171  0.316830  0.275003  0.300462  0.247803   \n4  0.010546  0.288565  0.735432  0.834574  0.104929  0.921374  0.375172   \n\n         7         8         9   ...        15        16        17        18  \\\n0  0.941655  0.569895  0.949296  ...  0.184798  0.111877  0.000013  0.543406   \n1  0.101302  0.491287  0.971621  ...  0.770933  0.530315  0.759894  0.036298   \n2  0.940651  0.384683  0.326248  ...  0.161193  0.763079  0.789781  0.236846   \n3  0.213863  0.509087  0.328180  ...  0.821370  0.641889  0.080811  0.503829   \n4  0.703290  0.145067  0.654591  ...  0.538711  0.709982  0.358451  0.005194   \n\n         19        20        21        22        23        24  \n0  0.390516  0.909604  0.859236  0.154964  0.772264  0.432009  \n1  0.422938  0.285150  0.709077  0.914524  0.275597  0.814530  \n2  0.318193  0.946108  0.708048  0.233251  0.155047  0.741752  \n3  0.405692  0.736098  0.593038  0.422623  0.858617  0.920588  \n4  0.281279  0.171292  0.893129  0.011452  0.573926  0.690373  \n\n[5 rows x 25 columns]",
      "text/html": "<div>\n<style scoped>\n    .dataframe tbody tr th:only-of-type {\n        vertical-align: middle;\n    }\n\n    .dataframe tbody tr th {\n        vertical-align: top;\n    }\n\n    .dataframe thead th {\n        text-align: right;\n    }\n</style>\n<table border=\"1\" class=\"dataframe\">\n  <thead>\n    <tr style=\"text-align: right;\">\n      <th></th>\n      <th>0</th>\n      <th>1</th>\n      <th>2</th>\n      <th>3</th>\n      <th>4</th>\n      <th>5</th>\n      <th>6</th>\n      <th>7</th>\n      <th>8</th>\n      <th>9</th>\n      <th>...</th>\n      <th>15</th>\n      <th>16</th>\n      <th>17</th>\n      <th>18</th>\n      <th>19</th>\n      <th>20</th>\n      <th>21</th>\n      <th>22</th>\n      <th>23</th>\n      <th>24</th>\n    </tr>\n  </thead>\n  <tbody>\n    <tr>\n      <th>0</th>\n      <td>0.000108</td>\n      <td>0.887797</td>\n      <td>0.504205</td>\n      <td>0.136096</td>\n      <td>0.194494</td>\n      <td>0.607874</td>\n      <td>0.565551</td>\n      <td>0.941655</td>\n      <td>0.569895</td>\n      <td>0.949296</td>\n      <td>...</td>\n      <td>0.184798</td>\n      <td>0.111877</td>\n      <td>0.000013</td>\n      <td>0.543406</td>\n      <td>0.390516</td>\n      <td>0.909604</td>\n      <td>0.859236</td>\n      <td>0.154964</td>\n      <td>0.772264</td>\n      <td>0.432009</td>\n    </tr>\n    <tr>\n      <th>1</th>\n      <td>0.143642</td>\n      <td>0.888581</td>\n      <td>0.304131</td>\n      <td>0.702437</td>\n      <td>0.952609</td>\n      <td>0.027689</td>\n      <td>0.325648</td>\n      <td>0.101302</td>\n      <td>0.491287</td>\n      <td>0.971621</td>\n      <td>...</td>\n      <td>0.770933</td>\n      <td>0.530315</td>\n      <td>0.759894</td>\n      <td>0.036298</td>\n      <td>0.422938</td>\n      <td>0.285150</td>\n      <td>0.709077</td>\n      <td>0.914524</td>\n      <td>0.275597</td>\n      <td>0.814530</td>\n    </tr>\n    <tr>\n      <th>2</th>\n      <td>0.748244</td>\n      <td>0.506050</td>\n      <td>0.238572</td>\n      <td>0.032909</td>\n      <td>0.117740</td>\n      <td>0.663750</td>\n      <td>0.486524</td>\n      <td>0.940651</td>\n      <td>0.384683</td>\n      <td>0.326248</td>\n      <td>...</td>\n      <td>0.161193</td>\n      <td>0.763079</td>\n      <td>0.789781</td>\n      <td>0.236846</td>\n      <td>0.318193</td>\n      <td>0.946108</td>\n      <td>0.708048</td>\n      <td>0.233251</td>\n      <td>0.155047</td>\n      <td>0.741752</td>\n    </tr>\n    <tr>\n      <th>3</th>\n      <td>0.724179</td>\n      <td>0.655571</td>\n      <td>0.636171</td>\n      <td>0.316830</td>\n      <td>0.275003</td>\n      <td>0.300462</td>\n      <td>0.247803</td>\n      <td>0.213863</td>\n      <td>0.509087</td>\n      <td>0.328180</td>\n      <td>...</td>\n      <td>0.821370</td>\n      <td>0.641889</td>\n      <td>0.080811</td>\n      <td>0.503829</td>\n      <td>0.405692</td>\n      <td>0.736098</td>\n      <td>0.593038</td>\n      <td>0.422623</td>\n      <td>0.858617</td>\n      <td>0.920588</td>\n    </tr>\n    <tr>\n      <th>4</th>\n      <td>0.010546</td>\n      <td>0.288565</td>\n      <td>0.735432</td>\n      <td>0.834574</td>\n      <td>0.104929</td>\n      <td>0.921374</td>\n      <td>0.375172</td>\n      <td>0.703290</td>\n      <td>0.145067</td>\n      <td>0.654591</td>\n      <td>...</td>\n      <td>0.538711</td>\n      <td>0.709982</td>\n      <td>0.358451</td>\n      <td>0.005194</td>\n      <td>0.281279</td>\n      <td>0.171292</td>\n      <td>0.893129</td>\n      <td>0.011452</td>\n      <td>0.573926</td>\n      <td>0.690373</td>\n    </tr>\n  </tbody>\n</table>\n<p>5 rows × 25 columns</p>\n</div>"
     },
     "execution_count": 7,
     "metadata": {},
     "output_type": "execute_result"
    }
   ],
   "source": [
    "# Initialise the user's features, starting with random\n",
    "# Columns are 25 features and rows are 600 users (changed to 5)\n",
    "# y_shape = (X.shape[1], reviews.shape[0])\n",
    "theta = pd.DataFrame(np.random.random((5, 25)))\n",
    "# theta.head()\n",
    "theta"
   ],
   "metadata": {
    "collapsed": false
   }
  },
  {
   "cell_type": "code",
   "execution_count": 8,
   "outputs": [
    {
     "data": {
      "text/plain": "   The Net  Happily N'Ever After  Tomorrowland  American Hero  Das Boot  \\\n0      0.0                   0.0           0.0            0.0       0.0   \n1      0.0                   0.0           0.0            0.0       0.0   \n2      0.0                   0.0           0.0            0.0       0.0   \n3      0.0                   0.0           0.0            0.0       0.0   \n4      0.0                   0.0           0.0            0.0       0.0   \n\n   Final Destination 3  Licence to Kill  The Hundred-Foot Journey  The Matrix  \\\n0                  0.0              0.0                       0.0         0.0   \n1                  0.0              0.0                       0.0         0.0   \n2                  0.0              0.0                       0.0         0.0   \n3                  0.0              0.0                       0.0         0.0   \n4                  0.0              0.0                       0.0         0.0   \n\n   Creature  ...  The Martian  Micmacs  Solomon and Sheba  \\\n0       0.0  ...          0.0      0.0                0.0   \n1       0.0  ...          0.0      0.0                0.0   \n2       0.0  ...          0.0      0.0                0.0   \n3       0.0  ...          0.0      0.0                0.0   \n4       0.0  ...          0.0      0.0                0.0   \n\n   In the Company of Men  Silent House  Big Fish  Get Real  Trading Places  \\\n0                    0.0           0.0       0.0       0.0             0.0   \n1                    0.0           0.0       0.0       0.0             0.0   \n2                    0.0           0.0       0.0       0.0             0.0   \n3                    0.0           0.0       0.0       0.0             0.0   \n4                    0.0           0.0       0.0       0.0             0.0   \n\n   DOA: Dead or Alive  Hey Arnold! The Movie  \n0                 0.0                    0.0  \n1                 0.0                    0.0  \n2                 0.0                    0.0  \n3                 0.0                    0.0  \n4                 0.0                    0.0  \n\n[5 rows x 2000 columns]",
      "text/html": "<div>\n<style scoped>\n    .dataframe tbody tr th:only-of-type {\n        vertical-align: middle;\n    }\n\n    .dataframe tbody tr th {\n        vertical-align: top;\n    }\n\n    .dataframe thead th {\n        text-align: right;\n    }\n</style>\n<table border=\"1\" class=\"dataframe\">\n  <thead>\n    <tr style=\"text-align: right;\">\n      <th></th>\n      <th>The Net</th>\n      <th>Happily N'Ever After</th>\n      <th>Tomorrowland</th>\n      <th>American Hero</th>\n      <th>Das Boot</th>\n      <th>Final Destination 3</th>\n      <th>Licence to Kill</th>\n      <th>The Hundred-Foot Journey</th>\n      <th>The Matrix</th>\n      <th>Creature</th>\n      <th>...</th>\n      <th>The Martian</th>\n      <th>Micmacs</th>\n      <th>Solomon and Sheba</th>\n      <th>In the Company of Men</th>\n      <th>Silent House</th>\n      <th>Big Fish</th>\n      <th>Get Real</th>\n      <th>Trading Places</th>\n      <th>DOA: Dead or Alive</th>\n      <th>Hey Arnold! The Movie</th>\n    </tr>\n  </thead>\n  <tbody>\n    <tr>\n      <th>0</th>\n      <td>0.0</td>\n      <td>0.0</td>\n      <td>0.0</td>\n      <td>0.0</td>\n      <td>0.0</td>\n      <td>0.0</td>\n      <td>0.0</td>\n      <td>0.0</td>\n      <td>0.0</td>\n      <td>0.0</td>\n      <td>...</td>\n      <td>0.0</td>\n      <td>0.0</td>\n      <td>0.0</td>\n      <td>0.0</td>\n      <td>0.0</td>\n      <td>0.0</td>\n      <td>0.0</td>\n      <td>0.0</td>\n      <td>0.0</td>\n      <td>0.0</td>\n    </tr>\n    <tr>\n      <th>1</th>\n      <td>0.0</td>\n      <td>0.0</td>\n      <td>0.0</td>\n      <td>0.0</td>\n      <td>0.0</td>\n      <td>0.0</td>\n      <td>0.0</td>\n      <td>0.0</td>\n      <td>0.0</td>\n      <td>0.0</td>\n      <td>...</td>\n      <td>0.0</td>\n      <td>0.0</td>\n      <td>0.0</td>\n      <td>0.0</td>\n      <td>0.0</td>\n      <td>0.0</td>\n      <td>0.0</td>\n      <td>0.0</td>\n      <td>0.0</td>\n      <td>0.0</td>\n    </tr>\n    <tr>\n      <th>2</th>\n      <td>0.0</td>\n      <td>0.0</td>\n      <td>0.0</td>\n      <td>0.0</td>\n      <td>0.0</td>\n      <td>0.0</td>\n      <td>0.0</td>\n      <td>0.0</td>\n      <td>0.0</td>\n      <td>0.0</td>\n      <td>...</td>\n      <td>0.0</td>\n      <td>0.0</td>\n      <td>0.0</td>\n      <td>0.0</td>\n      <td>0.0</td>\n      <td>0.0</td>\n      <td>0.0</td>\n      <td>0.0</td>\n      <td>0.0</td>\n      <td>0.0</td>\n    </tr>\n    <tr>\n      <th>3</th>\n      <td>0.0</td>\n      <td>0.0</td>\n      <td>0.0</td>\n      <td>0.0</td>\n      <td>0.0</td>\n      <td>0.0</td>\n      <td>0.0</td>\n      <td>0.0</td>\n      <td>0.0</td>\n      <td>0.0</td>\n      <td>...</td>\n      <td>0.0</td>\n      <td>0.0</td>\n      <td>0.0</td>\n      <td>0.0</td>\n      <td>0.0</td>\n      <td>0.0</td>\n      <td>0.0</td>\n      <td>0.0</td>\n      <td>0.0</td>\n      <td>0.0</td>\n    </tr>\n    <tr>\n      <th>4</th>\n      <td>0.0</td>\n      <td>0.0</td>\n      <td>0.0</td>\n      <td>0.0</td>\n      <td>0.0</td>\n      <td>0.0</td>\n      <td>0.0</td>\n      <td>0.0</td>\n      <td>0.0</td>\n      <td>0.0</td>\n      <td>...</td>\n      <td>0.0</td>\n      <td>0.0</td>\n      <td>0.0</td>\n      <td>0.0</td>\n      <td>0.0</td>\n      <td>0.0</td>\n      <td>0.0</td>\n      <td>0.0</td>\n      <td>0.0</td>\n      <td>0.0</td>\n    </tr>\n  </tbody>\n</table>\n<p>5 rows × 2000 columns</p>\n</div>"
     },
     "execution_count": 8,
     "metadata": {},
     "output_type": "execute_result"
    }
   ],
   "source": [
    "y = y.drop('User', axis=1)\n",
    "y"
   ],
   "metadata": {
    "collapsed": false
   }
  },
  {
   "cell_type": "code",
   "execution_count": 9,
   "outputs": [
    {
     "data": {
      "text/plain": "(5, 2000)"
     },
     "execution_count": 9,
     "metadata": {},
     "output_type": "execute_result"
    }
   ],
   "source": [
    "# (users, movies)\n",
    "y.shape"
   ],
   "metadata": {
    "collapsed": false
   }
  },
  {
   "cell_type": "code",
   "execution_count": 10,
   "outputs": [
    {
     "data": {
      "text/plain": "(2000, 25)"
     },
     "execution_count": 10,
     "metadata": {},
     "output_type": "execute_result"
    }
   ],
   "source": [
    "# (movies, features)\n",
    "X.shape"
   ],
   "metadata": {
    "collapsed": false
   }
  },
  {
   "cell_type": "code",
   "execution_count": 11,
   "outputs": [
    {
     "data": {
      "text/plain": "(5, 2001)"
     },
     "execution_count": 11,
     "metadata": {},
     "output_type": "execute_result"
    }
   ],
   "source": [
    "# (\n",
    "r.shape"
   ],
   "metadata": {
    "collapsed": false
   }
  },
  {
   "cell_type": "code",
   "execution_count": 15,
   "outputs": [
    {
     "name": "stdout",
     "output_type": "stream",
     "text": [
      "(2000, 25) (5, 2000) (5, 2000)\n",
      "(2000, 25) (5, 2000) (5, 2000)\n",
      "(2000, 25) (5, 2000) (5, 2000)\n",
      "(2000, 25) (5, 2000) (5, 2000)\n",
      "(2000, 25) (5, 2000) (5, 2000)\n"
     ]
    }
   ],
   "source": [
    "\n",
    "def g(X, y, r, theta):\n",
    "    def cost(X, y, r, theta, eta=0.01):\n",
    "        \"\"\"Returns a prediction of the \"\"\"\n",
    "        predictions = np.dot(X, theta.T).T\n",
    "        print(X.shape, y.shape, predictions.shape)\n",
    "        err = predictions - y\n",
    "        # Make no reviews 0 again, but keep the same dimension\n",
    "        return 1/2 * np.sum(np.square(err) * r)\n",
    "        # return 1 / 2 * np.sum(errors * r)\n",
    "\n",
    "    X = X.copy()\n",
    "    theta = theta.copy()\n",
    "    J_hist = []\n",
    "    for i in range(5):\n",
    "        c = cost(X, y, r, theta)\n",
    "        inside = np.dot(X, theta.T).T - y\n",
    "        theta = theta - alpha * np.dot(inside, X)\n",
    "\n",
    "        # theta = theta - alpha * (np.dot())\n",
    "        J_hist.append(c)\n",
    "\n",
    "    return X, theta, J_hist\n",
    "# y.shape, cost().shape\n",
    "eta = 0.01\n",
    "alpha = 0.001\n",
    "X, theta, J_hist = g(X, y, r, theta)"
   ],
   "metadata": {
    "collapsed": false
   }
  },
  {
   "cell_type": "code",
   "execution_count": null,
   "outputs": [],
   "source": [
    "# import math\n",
    "#\n",
    "# FILMS = 2000\n",
    "# USERS = 1\n",
    "# FEATURES = 25\n",
    "#\n",
    "# def cost_function(theta_init=None, num_iter=500):\n",
    "#     def step():\n",
    "#         out = []\n",
    "#         for i in range(FEATURES):\n",
    "#             out_k = []\n",
    "#             # for k in range(FEATURES):\n",
    "#             inside = np.dot(theta_j.T, X.iloc[i]) - y.iloc[j, i]\n",
    "#             out.append(inside[0])\n",
    "#             # out.append(np.dot(inside, X.iloc[i]))\n",
    "#             # out_k.append(np.dot(inside, X.iloc[i, k]))\n",
    "#             # out.append(out_k)\n",
    "#         return pd.DataFrame(pd.Series(out))\n",
    "#         # return np.array(out) * r.iloc[j]\n",
    "#\n",
    "#     # Works for a single user\n",
    "#     if not theta_init:\n",
    "#         theta_init = pd.DataFrame(np.random.random((X.shape[1], 1)))\n",
    "#     # if not y:\n",
    "#     #     y = pd.DataFrame(np.ones(theta_init.shape))\n",
    "#     for j in range(USERS):\n",
    "#         # For some reason .iloc[0:0] includes the heading\n",
    "#         theta_j = theta_init.copy()\n",
    "#\n",
    "#         for _ in range(num_iter):\n",
    "#             out = []\n",
    "#             for i in range(1, FILMS+1):\n",
    "#                 y_i = reviews.iloc[j, i]\n",
    "#                 # No review given so skip\n",
    "#                 if not y_i:\n",
    "#                     continue\n",
    "#                 y_hat = np.dot(theta_j.T, X.iloc[i])\n",
    "#                 out.append(np.square(y_hat - y_i))\n",
    "#             # theta_j = gradient_descent(0.001, theta_j, X_i)\n",
    "#             sum_ = np.sum(np.array(out))\n",
    "#             # print(sum_)\n",
    "#             theta_j = theta_j + alpha * step()\n",
    "#         break\n",
    "\n",
    "\n",
    "# reviews.iloc[0]\n",
    "# cost_function()\n",
    "# reviews.head()\n",
    "# np.square(4)\n",
    "# pd.DataFrame(np.random.random(X.shape[1]))"
   ],
   "metadata": {
    "collapsed": false
   }
  },
  {
   "cell_type": "code",
   "execution_count": null,
   "outputs": [],
   "source": [],
   "metadata": {
    "collapsed": false
   }
  }
 ],
 "metadata": {
  "kernelspec": {
   "display_name": "Python 3",
   "language": "python",
   "name": "python3"
  },
  "language_info": {
   "codemirror_mode": {
    "name": "ipython",
    "version": 2
   },
   "file_extension": ".py",
   "mimetype": "text/x-python",
   "name": "python",
   "nbconvert_exporter": "python",
   "pygments_lexer": "ipython2",
   "version": "2.7.6"
  }
 },
 "nbformat": 4,
 "nbformat_minor": 0
}
