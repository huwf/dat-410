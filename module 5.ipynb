{
 "cells": [
  {
   "cell_type": "code",
   "execution_count": 1,
   "metadata": {
    "collapsed": true
   },
   "outputs": [],
   "source": [
    "import pickle\n",
    "import numpy as np\n",
    "import pandas as pd\n",
    "import matplotlib.pyplot as plt\n",
    "from sklearn.ensemble import RandomForestClassifier\n",
    "from sklearn.model_selection import GridSearchCV, train_test_split\n",
    "from sklearn.tree import DecisionTreeClassifier\n",
    "\n",
    "from module_5 import setup_data"
   ]
  },
  {
   "cell_type": "code",
   "execution_count": 2,
   "outputs": [
    {
     "name": "stdout",
     "output_type": "stream",
     "text": [
      "           id  malignant  radius_0  texture_0  perimeter_0  area_0  \\\n",
      "0      842302          1     17.99      10.38       122.80  1001.0   \n",
      "1      842517          1     20.57      17.77       132.90  1326.0   \n",
      "2    84300903          1     19.69      21.25       130.00  1203.0   \n",
      "3    84348301          1     11.42      20.38        77.58   386.1   \n",
      "4    84358402          1     20.29      14.34       135.10  1297.0   \n",
      "..        ...        ...       ...        ...          ...     ...   \n",
      "564    926424          1     21.56      22.39       142.00  1479.0   \n",
      "565    926682          1     20.13      28.25       131.20  1261.0   \n",
      "566    926954          1     16.60      28.08       108.30   858.1   \n",
      "567    927241          1     20.60      29.33       140.10  1265.0   \n",
      "568     92751          0      7.76      24.54        47.92   181.0   \n",
      "\n",
      "     smoothness_0  compactness_0  concavity_0  concave points_0  ...  \\\n",
      "0         0.11840        0.27760      0.30010           0.14710  ...   \n",
      "1         0.08474        0.07864      0.08690           0.07017  ...   \n",
      "2         0.10960        0.15990      0.19740           0.12790  ...   \n",
      "3         0.14250        0.28390      0.24140           0.10520  ...   \n",
      "4         0.10030        0.13280      0.19800           0.10430  ...   \n",
      "..            ...            ...          ...               ...  ...   \n",
      "564       0.11100        0.11590      0.24390           0.13890  ...   \n",
      "565       0.09780        0.10340      0.14400           0.09791  ...   \n",
      "566       0.08455        0.10230      0.09251           0.05302  ...   \n",
      "567       0.11780        0.27700      0.35140           0.15200  ...   \n",
      "568       0.05263        0.04362      0.00000           0.00000  ...   \n",
      "\n",
      "     radius_2  texture_2  perimeter_2  area_2  smoothness_2  compactness_2  \\\n",
      "0      25.380      17.33       184.60  2019.0       0.16220        0.66560   \n",
      "1      24.990      23.41       158.80  1956.0       0.12380        0.18660   \n",
      "2      23.570      25.53       152.50  1709.0       0.14440        0.42450   \n",
      "3      14.910      26.50        98.87   567.7       0.20980        0.86630   \n",
      "4      22.540      16.67       152.20  1575.0       0.13740        0.20500   \n",
      "..        ...        ...          ...     ...           ...            ...   \n",
      "564    25.450      26.40       166.10  2027.0       0.14100        0.21130   \n",
      "565    23.690      38.25       155.00  1731.0       0.11660        0.19220   \n",
      "566    18.980      34.12       126.70  1124.0       0.11390        0.30940   \n",
      "567    25.740      39.42       184.60  1821.0       0.16500        0.86810   \n",
      "568     9.456      30.37        59.16   268.6       0.08996        0.06444   \n",
      "\n",
      "     concavity_2  concave points_2  symmetry_2  fractal dimension_2  \n",
      "0         0.7119            0.2654      0.4601              0.11890  \n",
      "1         0.2416            0.1860      0.2750              0.08902  \n",
      "2         0.4504            0.2430      0.3613              0.08758  \n",
      "3         0.6869            0.2575      0.6638              0.17300  \n",
      "4         0.4000            0.1625      0.2364              0.07678  \n",
      "..           ...               ...         ...                  ...  \n",
      "564       0.4107            0.2216      0.2060              0.07115  \n",
      "565       0.3215            0.1628      0.2572              0.06637  \n",
      "566       0.3403            0.1418      0.2218              0.07820  \n",
      "567       0.9387            0.2650      0.4087              0.12400  \n",
      "568       0.0000            0.0000      0.2871              0.07039  \n",
      "\n",
      "[569 rows x 32 columns]\n"
     ]
    },
    {
     "data": {
      "text/plain": "GridSearchCV(estimator=DecisionTreeClassifier(),\n             param_grid=[{'min_samples_split': [2, 3, 5, 8, 13, 21, 34, 55]},\n                         {'min_samples_leaf': [2, 3, 5, 8, 13, 21, 34, 55]},\n                         {'criterion': ['gini', 'entropy', 'log_loss']},\n                         {'max_features': ['sqrt', 'log2', None]},\n                         {'max_depth': [2, 3, 5, 8, 13, 21, 34, 55, 89, None]}],\n             refit='recall', scoring=['precision', 'recall'])",
      "text/html": "<style>#sk-container-id-1 {color: black;background-color: white;}#sk-container-id-1 pre{padding: 0;}#sk-container-id-1 div.sk-toggleable {background-color: white;}#sk-container-id-1 label.sk-toggleable__label {cursor: pointer;display: block;width: 100%;margin-bottom: 0;padding: 0.3em;box-sizing: border-box;text-align: center;}#sk-container-id-1 label.sk-toggleable__label-arrow:before {content: \"▸\";float: left;margin-right: 0.25em;color: #696969;}#sk-container-id-1 label.sk-toggleable__label-arrow:hover:before {color: black;}#sk-container-id-1 div.sk-estimator:hover label.sk-toggleable__label-arrow:before {color: black;}#sk-container-id-1 div.sk-toggleable__content {max-height: 0;max-width: 0;overflow: hidden;text-align: left;background-color: #f0f8ff;}#sk-container-id-1 div.sk-toggleable__content pre {margin: 0.2em;color: black;border-radius: 0.25em;background-color: #f0f8ff;}#sk-container-id-1 input.sk-toggleable__control:checked~div.sk-toggleable__content {max-height: 200px;max-width: 100%;overflow: auto;}#sk-container-id-1 input.sk-toggleable__control:checked~label.sk-toggleable__label-arrow:before {content: \"▾\";}#sk-container-id-1 div.sk-estimator input.sk-toggleable__control:checked~label.sk-toggleable__label {background-color: #d4ebff;}#sk-container-id-1 div.sk-label input.sk-toggleable__control:checked~label.sk-toggleable__label {background-color: #d4ebff;}#sk-container-id-1 input.sk-hidden--visually {border: 0;clip: rect(1px 1px 1px 1px);clip: rect(1px, 1px, 1px, 1px);height: 1px;margin: -1px;overflow: hidden;padding: 0;position: absolute;width: 1px;}#sk-container-id-1 div.sk-estimator {font-family: monospace;background-color: #f0f8ff;border: 1px dotted black;border-radius: 0.25em;box-sizing: border-box;margin-bottom: 0.5em;}#sk-container-id-1 div.sk-estimator:hover {background-color: #d4ebff;}#sk-container-id-1 div.sk-parallel-item::after {content: \"\";width: 100%;border-bottom: 1px solid gray;flex-grow: 1;}#sk-container-id-1 div.sk-label:hover label.sk-toggleable__label {background-color: #d4ebff;}#sk-container-id-1 div.sk-serial::before {content: \"\";position: absolute;border-left: 1px solid gray;box-sizing: border-box;top: 0;bottom: 0;left: 50%;z-index: 0;}#sk-container-id-1 div.sk-serial {display: flex;flex-direction: column;align-items: center;background-color: white;padding-right: 0.2em;padding-left: 0.2em;position: relative;}#sk-container-id-1 div.sk-item {position: relative;z-index: 1;}#sk-container-id-1 div.sk-parallel {display: flex;align-items: stretch;justify-content: center;background-color: white;position: relative;}#sk-container-id-1 div.sk-item::before, #sk-container-id-1 div.sk-parallel-item::before {content: \"\";position: absolute;border-left: 1px solid gray;box-sizing: border-box;top: 0;bottom: 0;left: 50%;z-index: -1;}#sk-container-id-1 div.sk-parallel-item {display: flex;flex-direction: column;z-index: 1;position: relative;background-color: white;}#sk-container-id-1 div.sk-parallel-item:first-child::after {align-self: flex-end;width: 50%;}#sk-container-id-1 div.sk-parallel-item:last-child::after {align-self: flex-start;width: 50%;}#sk-container-id-1 div.sk-parallel-item:only-child::after {width: 0;}#sk-container-id-1 div.sk-dashed-wrapped {border: 1px dashed gray;margin: 0 0.4em 0.5em 0.4em;box-sizing: border-box;padding-bottom: 0.4em;background-color: white;}#sk-container-id-1 div.sk-label label {font-family: monospace;font-weight: bold;display: inline-block;line-height: 1.2em;}#sk-container-id-1 div.sk-label-container {text-align: center;}#sk-container-id-1 div.sk-container {/* jupyter's `normalize.less` sets `[hidden] { display: none; }` but bootstrap.min.css set `[hidden] { display: none !important; }` so we also need the `!important` here to be able to override the default hidden behavior on the sphinx rendered scikit-learn.org. See: https://github.com/scikit-learn/scikit-learn/issues/21755 */display: inline-block !important;position: relative;}#sk-container-id-1 div.sk-text-repr-fallback {display: none;}</style><div id=\"sk-container-id-1\" class=\"sk-top-container\"><div class=\"sk-text-repr-fallback\"><pre>GridSearchCV(estimator=DecisionTreeClassifier(),\n             param_grid=[{&#x27;min_samples_split&#x27;: [2, 3, 5, 8, 13, 21, 34, 55]},\n                         {&#x27;min_samples_leaf&#x27;: [2, 3, 5, 8, 13, 21, 34, 55]},\n                         {&#x27;criterion&#x27;: [&#x27;gini&#x27;, &#x27;entropy&#x27;, &#x27;log_loss&#x27;]},\n                         {&#x27;max_features&#x27;: [&#x27;sqrt&#x27;, &#x27;log2&#x27;, None]},\n                         {&#x27;max_depth&#x27;: [2, 3, 5, 8, 13, 21, 34, 55, 89, None]}],\n             refit=&#x27;recall&#x27;, scoring=[&#x27;precision&#x27;, &#x27;recall&#x27;])</pre><b>In a Jupyter environment, please rerun this cell to show the HTML representation or trust the notebook. <br />On GitHub, the HTML representation is unable to render, please try loading this page with nbviewer.org.</b></div><div class=\"sk-container\" hidden><div class=\"sk-item sk-dashed-wrapped\"><div class=\"sk-label-container\"><div class=\"sk-label sk-toggleable\"><input class=\"sk-toggleable__control sk-hidden--visually\" id=\"sk-estimator-id-1\" type=\"checkbox\" ><label for=\"sk-estimator-id-1\" class=\"sk-toggleable__label sk-toggleable__label-arrow\">GridSearchCV</label><div class=\"sk-toggleable__content\"><pre>GridSearchCV(estimator=DecisionTreeClassifier(),\n             param_grid=[{&#x27;min_samples_split&#x27;: [2, 3, 5, 8, 13, 21, 34, 55]},\n                         {&#x27;min_samples_leaf&#x27;: [2, 3, 5, 8, 13, 21, 34, 55]},\n                         {&#x27;criterion&#x27;: [&#x27;gini&#x27;, &#x27;entropy&#x27;, &#x27;log_loss&#x27;]},\n                         {&#x27;max_features&#x27;: [&#x27;sqrt&#x27;, &#x27;log2&#x27;, None]},\n                         {&#x27;max_depth&#x27;: [2, 3, 5, 8, 13, 21, 34, 55, 89, None]}],\n             refit=&#x27;recall&#x27;, scoring=[&#x27;precision&#x27;, &#x27;recall&#x27;])</pre></div></div></div><div class=\"sk-parallel\"><div class=\"sk-parallel-item\"><div class=\"sk-item\"><div class=\"sk-label-container\"><div class=\"sk-label sk-toggleable\"><input class=\"sk-toggleable__control sk-hidden--visually\" id=\"sk-estimator-id-2\" type=\"checkbox\" ><label for=\"sk-estimator-id-2\" class=\"sk-toggleable__label sk-toggleable__label-arrow\">estimator: DecisionTreeClassifier</label><div class=\"sk-toggleable__content\"><pre>DecisionTreeClassifier()</pre></div></div></div><div class=\"sk-serial\"><div class=\"sk-item\"><div class=\"sk-estimator sk-toggleable\"><input class=\"sk-toggleable__control sk-hidden--visually\" id=\"sk-estimator-id-3\" type=\"checkbox\" ><label for=\"sk-estimator-id-3\" class=\"sk-toggleable__label sk-toggleable__label-arrow\">DecisionTreeClassifier</label><div class=\"sk-toggleable__content\"><pre>DecisionTreeClassifier()</pre></div></div></div></div></div></div></div></div></div></div>"
     },
     "execution_count": 2,
     "metadata": {},
     "output_type": "execute_result"
    }
   ],
   "source": [
    "param_grid = [\n",
    "    {'min_samples_split': [2, 3, 5, 8, 13, 21, 34, 55]},\n",
    "    {'min_samples_leaf': [2, 3, 5, 8, 13, 21, 34, 55]},\n",
    "    {'criterion': ['gini', 'entropy', 'log_loss']},\n",
    "    {'max_features': ['sqrt', 'log2', None]},\n",
    "    {'max_depth': [2, 3, 5, 8, 13, 21, 34, 55, 89, None]}\n",
    "]\n",
    "\n",
    "X_train, X_test, y_train, y_test = setup_data()\n",
    "scores = [\"precision\", \"recall\"]\n",
    "\n",
    "# What should we optimise for?\n",
    "grid_search = GridSearchCV(DecisionTreeClassifier(), param_grid=param_grid, scoring=scores, refit='recall')\n",
    "grid_search.fit(X_train, y_train)\n"
   ],
   "metadata": {
    "collapsed": false
   }
  },
  {
   "cell_type": "code",
   "execution_count": 3,
   "outputs": [
    {
     "data": {
      "text/plain": "{'criterion': 'entropy'}"
     },
     "execution_count": 3,
     "metadata": {},
     "output_type": "execute_result"
    }
   ],
   "source": [
    "grid_search.best_params_"
   ],
   "metadata": {
    "collapsed": false
   }
  },
  {
   "cell_type": "code",
   "execution_count": 4,
   "outputs": [],
   "source": [
    "estimator = grid_search.best_estimator_"
   ],
   "metadata": {
    "collapsed": false
   }
  },
  {
   "cell_type": "code",
   "execution_count": 5,
   "outputs": [
    {
     "data": {
      "text/plain": "{'criterion': 'entropy',\n 'splitter': 'best',\n 'max_depth': None,\n 'min_samples_split': 2,\n 'min_samples_leaf': 1,\n 'min_weight_fraction_leaf': 0.0,\n 'max_features': None,\n 'max_leaf_nodes': None,\n 'random_state': None,\n 'min_impurity_decrease': 0.0,\n 'class_weight': None,\n 'ccp_alpha': 0.0,\n 'feature_names_in_': array(['id', 'radius_0', 'texture_0', 'perimeter_0', 'area_0',\n        'smoothness_0', 'compactness_0', 'concavity_0', 'concave points_0',\n        'symmetry_0', 'fractal dimension_0', 'radius_1', 'texture_1',\n        'perimeter_1', 'area_1', 'smoothness_1', 'compactness_1',\n        'concavity_1', 'concave points_1', 'symmetry_1',\n        'fractal dimension_1', 'radius_2', 'texture_2', 'perimeter_2',\n        'area_2', 'smoothness_2', 'compactness_2', 'concavity_2',\n        'concave points_2', 'symmetry_2', 'fractal dimension_2'],\n       dtype=object),\n 'n_features_in_': 31,\n 'n_outputs_': 1,\n 'classes_': array([0, 1]),\n 'n_classes_': 2,\n 'max_features_': 31,\n 'tree_': <sklearn.tree._tree.Tree at 0x164a0fd3500>}"
     },
     "execution_count": 5,
     "metadata": {},
     "output_type": "execute_result"
    }
   ],
   "source": [
    "vars(estimator)"
   ],
   "metadata": {
    "collapsed": false
   }
  },
  {
   "cell_type": "code",
   "execution_count": 6,
   "outputs": [
    {
     "data": {
      "text/plain": "RandomForestClassifier(criterion='entropy', max_features=None)",
      "text/html": "<style>#sk-container-id-2 {color: black;background-color: white;}#sk-container-id-2 pre{padding: 0;}#sk-container-id-2 div.sk-toggleable {background-color: white;}#sk-container-id-2 label.sk-toggleable__label {cursor: pointer;display: block;width: 100%;margin-bottom: 0;padding: 0.3em;box-sizing: border-box;text-align: center;}#sk-container-id-2 label.sk-toggleable__label-arrow:before {content: \"▸\";float: left;margin-right: 0.25em;color: #696969;}#sk-container-id-2 label.sk-toggleable__label-arrow:hover:before {color: black;}#sk-container-id-2 div.sk-estimator:hover label.sk-toggleable__label-arrow:before {color: black;}#sk-container-id-2 div.sk-toggleable__content {max-height: 0;max-width: 0;overflow: hidden;text-align: left;background-color: #f0f8ff;}#sk-container-id-2 div.sk-toggleable__content pre {margin: 0.2em;color: black;border-radius: 0.25em;background-color: #f0f8ff;}#sk-container-id-2 input.sk-toggleable__control:checked~div.sk-toggleable__content {max-height: 200px;max-width: 100%;overflow: auto;}#sk-container-id-2 input.sk-toggleable__control:checked~label.sk-toggleable__label-arrow:before {content: \"▾\";}#sk-container-id-2 div.sk-estimator input.sk-toggleable__control:checked~label.sk-toggleable__label {background-color: #d4ebff;}#sk-container-id-2 div.sk-label input.sk-toggleable__control:checked~label.sk-toggleable__label {background-color: #d4ebff;}#sk-container-id-2 input.sk-hidden--visually {border: 0;clip: rect(1px 1px 1px 1px);clip: rect(1px, 1px, 1px, 1px);height: 1px;margin: -1px;overflow: hidden;padding: 0;position: absolute;width: 1px;}#sk-container-id-2 div.sk-estimator {font-family: monospace;background-color: #f0f8ff;border: 1px dotted black;border-radius: 0.25em;box-sizing: border-box;margin-bottom: 0.5em;}#sk-container-id-2 div.sk-estimator:hover {background-color: #d4ebff;}#sk-container-id-2 div.sk-parallel-item::after {content: \"\";width: 100%;border-bottom: 1px solid gray;flex-grow: 1;}#sk-container-id-2 div.sk-label:hover label.sk-toggleable__label {background-color: #d4ebff;}#sk-container-id-2 div.sk-serial::before {content: \"\";position: absolute;border-left: 1px solid gray;box-sizing: border-box;top: 0;bottom: 0;left: 50%;z-index: 0;}#sk-container-id-2 div.sk-serial {display: flex;flex-direction: column;align-items: center;background-color: white;padding-right: 0.2em;padding-left: 0.2em;position: relative;}#sk-container-id-2 div.sk-item {position: relative;z-index: 1;}#sk-container-id-2 div.sk-parallel {display: flex;align-items: stretch;justify-content: center;background-color: white;position: relative;}#sk-container-id-2 div.sk-item::before, #sk-container-id-2 div.sk-parallel-item::before {content: \"\";position: absolute;border-left: 1px solid gray;box-sizing: border-box;top: 0;bottom: 0;left: 50%;z-index: -1;}#sk-container-id-2 div.sk-parallel-item {display: flex;flex-direction: column;z-index: 1;position: relative;background-color: white;}#sk-container-id-2 div.sk-parallel-item:first-child::after {align-self: flex-end;width: 50%;}#sk-container-id-2 div.sk-parallel-item:last-child::after {align-self: flex-start;width: 50%;}#sk-container-id-2 div.sk-parallel-item:only-child::after {width: 0;}#sk-container-id-2 div.sk-dashed-wrapped {border: 1px dashed gray;margin: 0 0.4em 0.5em 0.4em;box-sizing: border-box;padding-bottom: 0.4em;background-color: white;}#sk-container-id-2 div.sk-label label {font-family: monospace;font-weight: bold;display: inline-block;line-height: 1.2em;}#sk-container-id-2 div.sk-label-container {text-align: center;}#sk-container-id-2 div.sk-container {/* jupyter's `normalize.less` sets `[hidden] { display: none; }` but bootstrap.min.css set `[hidden] { display: none !important; }` so we also need the `!important` here to be able to override the default hidden behavior on the sphinx rendered scikit-learn.org. See: https://github.com/scikit-learn/scikit-learn/issues/21755 */display: inline-block !important;position: relative;}#sk-container-id-2 div.sk-text-repr-fallback {display: none;}</style><div id=\"sk-container-id-2\" class=\"sk-top-container\"><div class=\"sk-text-repr-fallback\"><pre>RandomForestClassifier(criterion=&#x27;entropy&#x27;, max_features=None)</pre><b>In a Jupyter environment, please rerun this cell to show the HTML representation or trust the notebook. <br />On GitHub, the HTML representation is unable to render, please try loading this page with nbviewer.org.</b></div><div class=\"sk-container\" hidden><div class=\"sk-item\"><div class=\"sk-estimator sk-toggleable\"><input class=\"sk-toggleable__control sk-hidden--visually\" id=\"sk-estimator-id-4\" type=\"checkbox\" checked><label for=\"sk-estimator-id-4\" class=\"sk-toggleable__label sk-toggleable__label-arrow\">RandomForestClassifier</label><div class=\"sk-toggleable__content\"><pre>RandomForestClassifier(criterion=&#x27;entropy&#x27;, max_features=None)</pre></div></div></div></div></div>"
     },
     "execution_count": 6,
     "metadata": {},
     "output_type": "execute_result"
    }
   ],
   "source": [
    "\n",
    "# forest = RandomForestClassifier(criterion=estimator.criterion, min_samples_split=estimator.min_samples_split)\n",
    "kwargs = estimator.get_params()\n",
    "del kwargs['splitter']\n",
    "forest = RandomForestClassifier(**kwargs)\n",
    "forest.fit(X_train, y_train)"
   ],
   "metadata": {
    "collapsed": false
   }
  },
  {
   "cell_type": "code",
   "execution_count": 7,
   "outputs": [
    {
     "data": {
      "text/plain": "{'base_estimator': DecisionTreeClassifier(),\n 'n_estimators': 100,\n 'estimator_params': ('criterion',\n  'max_depth',\n  'min_samples_split',\n  'min_samples_leaf',\n  'min_weight_fraction_leaf',\n  'max_features',\n  'max_leaf_nodes',\n  'min_impurity_decrease',\n  'random_state',\n  'ccp_alpha'),\n 'bootstrap': True,\n 'oob_score': False,\n 'n_jobs': None,\n 'random_state': None,\n 'verbose': 0,\n 'warm_start': False,\n 'class_weight': None,\n 'max_samples': None,\n 'criterion': 'entropy',\n 'max_depth': None,\n 'min_samples_split': 2,\n 'min_samples_leaf': 1,\n 'min_weight_fraction_leaf': 0.0,\n 'max_features': None,\n 'max_leaf_nodes': None,\n 'min_impurity_decrease': 0.0,\n 'ccp_alpha': 0.0,\n 'feature_names_in_': array(['id', 'radius_0', 'texture_0', 'perimeter_0', 'area_0',\n        'smoothness_0', 'compactness_0', 'concavity_0', 'concave points_0',\n        'symmetry_0', 'fractal dimension_0', 'radius_1', 'texture_1',\n        'perimeter_1', 'area_1', 'smoothness_1', 'compactness_1',\n        'concavity_1', 'concave points_1', 'symmetry_1',\n        'fractal dimension_1', 'radius_2', 'texture_2', 'perimeter_2',\n        'area_2', 'smoothness_2', 'compactness_2', 'concavity_2',\n        'concave points_2', 'symmetry_2', 'fractal dimension_2'],\n       dtype=object),\n 'n_features_in_': 31,\n 'n_outputs_': 1,\n 'classes_': array([0, 1]),\n 'n_classes_': 2,\n 'base_estimator_': DecisionTreeClassifier(),\n 'estimators_': [DecisionTreeClassifier(criterion='entropy', random_state=1598553168),\n  DecisionTreeClassifier(criterion='entropy', random_state=632932619),\n  DecisionTreeClassifier(criterion='entropy', random_state=651891210),\n  DecisionTreeClassifier(criterion='entropy', random_state=768269095),\n  DecisionTreeClassifier(criterion='entropy', random_state=1236675395),\n  DecisionTreeClassifier(criterion='entropy', random_state=450877416),\n  DecisionTreeClassifier(criterion='entropy', random_state=2080226308),\n  DecisionTreeClassifier(criterion='entropy', random_state=1058217331),\n  DecisionTreeClassifier(criterion='entropy', random_state=467806704),\n  DecisionTreeClassifier(criterion='entropy', random_state=616277724),\n  DecisionTreeClassifier(criterion='entropy', random_state=542588987),\n  DecisionTreeClassifier(criterion='entropy', random_state=1396158286),\n  DecisionTreeClassifier(criterion='entropy', random_state=1421265430),\n  DecisionTreeClassifier(criterion='entropy', random_state=1184320081),\n  DecisionTreeClassifier(criterion='entropy', random_state=988763773),\n  DecisionTreeClassifier(criterion='entropy', random_state=924026103),\n  DecisionTreeClassifier(criterion='entropy', random_state=1343152292),\n  DecisionTreeClassifier(criterion='entropy', random_state=1675162375),\n  DecisionTreeClassifier(criterion='entropy', random_state=1278207464),\n  DecisionTreeClassifier(criterion='entropy', random_state=1725026919),\n  DecisionTreeClassifier(criterion='entropy', random_state=1488574856),\n  DecisionTreeClassifier(criterion='entropy', random_state=297183848),\n  DecisionTreeClassifier(criterion='entropy', random_state=1159949108),\n  DecisionTreeClassifier(criterion='entropy', random_state=758760782),\n  DecisionTreeClassifier(criterion='entropy', random_state=608445174),\n  DecisionTreeClassifier(criterion='entropy', random_state=1319020855),\n  DecisionTreeClassifier(criterion='entropy', random_state=13018188),\n  DecisionTreeClassifier(criterion='entropy', random_state=880304831),\n  DecisionTreeClassifier(criterion='entropy', random_state=238308176),\n  DecisionTreeClassifier(criterion='entropy', random_state=1899607275),\n  DecisionTreeClassifier(criterion='entropy', random_state=1826883041),\n  DecisionTreeClassifier(criterion='entropy', random_state=1750606610),\n  DecisionTreeClassifier(criterion='entropy', random_state=1603335203),\n  DecisionTreeClassifier(criterion='entropy', random_state=263993831),\n  DecisionTreeClassifier(criterion='entropy', random_state=83411833),\n  DecisionTreeClassifier(criterion='entropy', random_state=1300856091),\n  DecisionTreeClassifier(criterion='entropy', random_state=1015425240),\n  DecisionTreeClassifier(criterion='entropy', random_state=478544674),\n  DecisionTreeClassifier(criterion='entropy', random_state=1223293865),\n  DecisionTreeClassifier(criterion='entropy', random_state=558977210),\n  DecisionTreeClassifier(criterion='entropy', random_state=1115782926),\n  DecisionTreeClassifier(criterion='entropy', random_state=933738985),\n  DecisionTreeClassifier(criterion='entropy', random_state=561463574),\n  DecisionTreeClassifier(criterion='entropy', random_state=1288163976),\n  DecisionTreeClassifier(criterion='entropy', random_state=1096802668),\n  DecisionTreeClassifier(criterion='entropy', random_state=1173748784),\n  DecisionTreeClassifier(criterion='entropy', random_state=413676158),\n  DecisionTreeClassifier(criterion='entropy', random_state=325308460),\n  DecisionTreeClassifier(criterion='entropy', random_state=663585654),\n  DecisionTreeClassifier(criterion='entropy', random_state=1663333420),\n  DecisionTreeClassifier(criterion='entropy', random_state=1382876933),\n  DecisionTreeClassifier(criterion='entropy', random_state=1432030246),\n  DecisionTreeClassifier(criterion='entropy', random_state=938944156),\n  DecisionTreeClassifier(criterion='entropy', random_state=1533521459),\n  DecisionTreeClassifier(criterion='entropy', random_state=997239472),\n  DecisionTreeClassifier(criterion='entropy', random_state=328616463),\n  DecisionTreeClassifier(criterion='entropy', random_state=273002923),\n  DecisionTreeClassifier(criterion='entropy', random_state=1850443190),\n  DecisionTreeClassifier(criterion='entropy', random_state=1573151130),\n  DecisionTreeClassifier(criterion='entropy', random_state=2145187433),\n  DecisionTreeClassifier(criterion='entropy', random_state=2136356748),\n  DecisionTreeClassifier(criterion='entropy', random_state=1573331784),\n  DecisionTreeClassifier(criterion='entropy', random_state=363300927),\n  DecisionTreeClassifier(criterion='entropy', random_state=1714927307),\n  DecisionTreeClassifier(criterion='entropy', random_state=1007998147),\n  DecisionTreeClassifier(criterion='entropy', random_state=1338014513),\n  DecisionTreeClassifier(criterion='entropy', random_state=1297471701),\n  DecisionTreeClassifier(criterion='entropy', random_state=369671249),\n  DecisionTreeClassifier(criterion='entropy', random_state=1778516294),\n  DecisionTreeClassifier(criterion='entropy', random_state=533145024),\n  DecisionTreeClassifier(criterion='entropy', random_state=533255417),\n  DecisionTreeClassifier(criterion='entropy', random_state=1971678078),\n  DecisionTreeClassifier(criterion='entropy', random_state=1918322365),\n  DecisionTreeClassifier(criterion='entropy', random_state=1033742964),\n  DecisionTreeClassifier(criterion='entropy', random_state=2074990934),\n  DecisionTreeClassifier(criterion='entropy', random_state=1155061273),\n  DecisionTreeClassifier(criterion='entropy', random_state=1684287014),\n  DecisionTreeClassifier(criterion='entropy', random_state=1423804484),\n  DecisionTreeClassifier(criterion='entropy', random_state=1299058543),\n  DecisionTreeClassifier(criterion='entropy', random_state=797631218),\n  DecisionTreeClassifier(criterion='entropy', random_state=2115748114),\n  DecisionTreeClassifier(criterion='entropy', random_state=1021382105),\n  DecisionTreeClassifier(criterion='entropy', random_state=1873929112),\n  DecisionTreeClassifier(criterion='entropy', random_state=317660467),\n  DecisionTreeClassifier(criterion='entropy', random_state=1860121552),\n  DecisionTreeClassifier(criterion='entropy', random_state=1043761368),\n  DecisionTreeClassifier(criterion='entropy', random_state=26694594),\n  DecisionTreeClassifier(criterion='entropy', random_state=1520065535),\n  DecisionTreeClassifier(criterion='entropy', random_state=1691928769),\n  DecisionTreeClassifier(criterion='entropy', random_state=205794789),\n  DecisionTreeClassifier(criterion='entropy', random_state=1849537583),\n  DecisionTreeClassifier(criterion='entropy', random_state=733087188),\n  DecisionTreeClassifier(criterion='entropy', random_state=524567580),\n  DecisionTreeClassifier(criterion='entropy', random_state=1205542737),\n  DecisionTreeClassifier(criterion='entropy', random_state=1880278630),\n  DecisionTreeClassifier(criterion='entropy', random_state=2024729592),\n  DecisionTreeClassifier(criterion='entropy', random_state=1820261768),\n  DecisionTreeClassifier(criterion='entropy', random_state=973876347),\n  DecisionTreeClassifier(criterion='entropy', random_state=1293788334),\n  DecisionTreeClassifier(criterion='entropy', random_state=1479394001)]}"
     },
     "execution_count": 7,
     "metadata": {},
     "output_type": "execute_result"
    }
   ],
   "source": [
    "vars(forest)"
   ],
   "metadata": {
    "collapsed": false
   }
  },
  {
   "cell_type": "code",
   "execution_count": 8,
   "outputs": [
    {
     "data": {
      "text/plain": "0.965034965034965"
     },
     "execution_count": 8,
     "metadata": {},
     "output_type": "execute_result"
    }
   ],
   "source": [
    "forest.score(X_test, y_test)"
   ],
   "metadata": {
    "collapsed": false
   }
  }
 ],
 "metadata": {
  "kernelspec": {
   "display_name": "Python 3",
   "language": "python",
   "name": "python3"
  },
  "language_info": {
   "codemirror_mode": {
    "name": "ipython",
    "version": 2
   },
   "file_extension": ".py",
   "mimetype": "text/x-python",
   "name": "python",
   "nbconvert_exporter": "python",
   "pygments_lexer": "ipython2",
   "version": "2.7.6"
  }
 },
 "nbformat": 4,
 "nbformat_minor": 0
}
