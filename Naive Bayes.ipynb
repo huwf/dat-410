{
 "cells": [
  {
   "cell_type": "code",
   "execution_count": 9,
   "metadata": {
    "collapsed": true
   },
   "outputs": [
    {
     "name": "stdout",
     "output_type": "stream",
     "text": [
      "           id  malignant  radius_0  texture_0  perimeter_0  area_0  \\\n",
      "0      842302          1     17.99      10.38       122.80  1001.0   \n",
      "1      842517          1     20.57      17.77       132.90  1326.0   \n",
      "2    84300903          1     19.69      21.25       130.00  1203.0   \n",
      "3    84348301          1     11.42      20.38        77.58   386.1   \n",
      "4    84358402          1     20.29      14.34       135.10  1297.0   \n",
      "..        ...        ...       ...        ...          ...     ...   \n",
      "564    926424          1     21.56      22.39       142.00  1479.0   \n",
      "565    926682          1     20.13      28.25       131.20  1261.0   \n",
      "566    926954          1     16.60      28.08       108.30   858.1   \n",
      "567    927241          1     20.60      29.33       140.10  1265.0   \n",
      "568     92751          0      7.76      24.54        47.92   181.0   \n",
      "\n",
      "     smoothness_0  compactness_0  concavity_0  concave points_0  ...  \\\n",
      "0         0.11840        0.27760      0.30010           0.14710  ...   \n",
      "1         0.08474        0.07864      0.08690           0.07017  ...   \n",
      "2         0.10960        0.15990      0.19740           0.12790  ...   \n",
      "3         0.14250        0.28390      0.24140           0.10520  ...   \n",
      "4         0.10030        0.13280      0.19800           0.10430  ...   \n",
      "..            ...            ...          ...               ...  ...   \n",
      "564       0.11100        0.11590      0.24390           0.13890  ...   \n",
      "565       0.09780        0.10340      0.14400           0.09791  ...   \n",
      "566       0.08455        0.10230      0.09251           0.05302  ...   \n",
      "567       0.11780        0.27700      0.35140           0.15200  ...   \n",
      "568       0.05263        0.04362      0.00000           0.00000  ...   \n",
      "\n",
      "     radius_2  texture_2  perimeter_2  area_2  smoothness_2  compactness_2  \\\n",
      "0      25.380      17.33       184.60  2019.0       0.16220        0.66560   \n",
      "1      24.990      23.41       158.80  1956.0       0.12380        0.18660   \n",
      "2      23.570      25.53       152.50  1709.0       0.14440        0.42450   \n",
      "3      14.910      26.50        98.87   567.7       0.20980        0.86630   \n",
      "4      22.540      16.67       152.20  1575.0       0.13740        0.20500   \n",
      "..        ...        ...          ...     ...           ...            ...   \n",
      "564    25.450      26.40       166.10  2027.0       0.14100        0.21130   \n",
      "565    23.690      38.25       155.00  1731.0       0.11660        0.19220   \n",
      "566    18.980      34.12       126.70  1124.0       0.11390        0.30940   \n",
      "567    25.740      39.42       184.60  1821.0       0.16500        0.86810   \n",
      "568     9.456      30.37        59.16   268.6       0.08996        0.06444   \n",
      "\n",
      "     concavity_2  concave points_2  symmetry_2  fractal dimension_2  \n",
      "0         0.7119            0.2654      0.4601              0.11890  \n",
      "1         0.2416            0.1860      0.2750              0.08902  \n",
      "2         0.4504            0.2430      0.3613              0.08758  \n",
      "3         0.6869            0.2575      0.6638              0.17300  \n",
      "4         0.4000            0.1625      0.2364              0.07678  \n",
      "..           ...               ...         ...                  ...  \n",
      "564       0.4107            0.2216      0.2060              0.07115  \n",
      "565       0.3215            0.1628      0.2572              0.06637  \n",
      "566       0.3403            0.1418      0.2218              0.07820  \n",
      "567       0.9387            0.2650      0.4087              0.12400  \n",
      "568       0.0000            0.0000      0.2871              0.07039  \n",
      "\n",
      "[569 rows x 32 columns]\n"
     ]
    }
   ],
   "source": [
    "from sklearn.naive_bayes import GaussianNB, MultinomialNB\n",
    "from sklearn.linear_model import LogisticRegression\n",
    "from module_5 import setup_data\n",
    "X_train, X_test, y_train, y_test = setup_data()"
   ]
  },
  {
   "cell_type": "code",
   "execution_count": 30,
   "outputs": [
    {
     "data": {
      "text/plain": "0.6013986013986014"
     },
     "execution_count": 30,
     "metadata": {},
     "output_type": "execute_result"
    }
   ],
   "source": [
    "nb = GaussianNB()\n",
    "nb.fit(X_train, y_train)\n",
    "nb.score(X_test, y_test)"
   ],
   "metadata": {
    "collapsed": false
   }
  },
  {
   "cell_type": "code",
   "execution_count": 31,
   "outputs": [
    {
     "data": {
      "text/plain": "array([[85,  1],\n       [56,  1]], dtype=int64)"
     },
     "execution_count": 31,
     "metadata": {},
     "output_type": "execute_result"
    }
   ],
   "source": [
    "from sklearn.metrics import confusion_matrix\n",
    "y_pred = nb.predict(X_test)\n",
    "confusion_matrix(y_test, y_pred)"
   ],
   "metadata": {
    "collapsed": false
   }
  },
  {
   "cell_type": "code",
   "execution_count": 14,
   "outputs": [
    {
     "data": {
      "text/plain": "0.6293706293706294"
     },
     "execution_count": 14,
     "metadata": {},
     "output_type": "execute_result"
    }
   ],
   "source": [
    "clf = LogisticRegression()\n",
    "clf.fit(X_train, y_train)\n",
    "clf.score(X_test, y_test)"
   ],
   "metadata": {
    "collapsed": false
   }
  },
  {
   "cell_type": "code",
   "execution_count": 15,
   "outputs": [
    {
     "data": {
      "text/plain": "array([[90,  0],\n       [53,  0]], dtype=int64)"
     },
     "execution_count": 15,
     "metadata": {},
     "output_type": "execute_result"
    }
   ],
   "source": [
    "y_pred = clf.predict(X_test)\n",
    "confusion_matrix(y_test, y_pred)"
   ],
   "metadata": {
    "collapsed": false
   }
  },
  {
   "cell_type": "code",
   "execution_count": 28,
   "outputs": [
    {
     "name": "stdout",
     "output_type": "stream",
     "text": [
      "           id  malignant  radius_0  texture_0  perimeter_0  area_0  \\\n",
      "0      842302          1     17.99      10.38       122.80  1001.0   \n",
      "1      842517          1     20.57      17.77       132.90  1326.0   \n",
      "2    84300903          1     19.69      21.25       130.00  1203.0   \n",
      "3    84348301          1     11.42      20.38        77.58   386.1   \n",
      "4    84358402          1     20.29      14.34       135.10  1297.0   \n",
      "..        ...        ...       ...        ...          ...     ...   \n",
      "564    926424          1     21.56      22.39       142.00  1479.0   \n",
      "565    926682          1     20.13      28.25       131.20  1261.0   \n",
      "566    926954          1     16.60      28.08       108.30   858.1   \n",
      "567    927241          1     20.60      29.33       140.10  1265.0   \n",
      "568     92751          0      7.76      24.54        47.92   181.0   \n",
      "\n",
      "     smoothness_0  compactness_0  concavity_0  concave points_0  ...  \\\n",
      "0         0.11840        0.27760      0.30010           0.14710  ...   \n",
      "1         0.08474        0.07864      0.08690           0.07017  ...   \n",
      "2         0.10960        0.15990      0.19740           0.12790  ...   \n",
      "3         0.14250        0.28390      0.24140           0.10520  ...   \n",
      "4         0.10030        0.13280      0.19800           0.10430  ...   \n",
      "..            ...            ...          ...               ...  ...   \n",
      "564       0.11100        0.11590      0.24390           0.13890  ...   \n",
      "565       0.09780        0.10340      0.14400           0.09791  ...   \n",
      "566       0.08455        0.10230      0.09251           0.05302  ...   \n",
      "567       0.11780        0.27700      0.35140           0.15200  ...   \n",
      "568       0.05263        0.04362      0.00000           0.00000  ...   \n",
      "\n",
      "     radius_2  texture_2  perimeter_2  area_2  smoothness_2  compactness_2  \\\n",
      "0      25.380      17.33       184.60  2019.0       0.16220        0.66560   \n",
      "1      24.990      23.41       158.80  1956.0       0.12380        0.18660   \n",
      "2      23.570      25.53       152.50  1709.0       0.14440        0.42450   \n",
      "3      14.910      26.50        98.87   567.7       0.20980        0.86630   \n",
      "4      22.540      16.67       152.20  1575.0       0.13740        0.20500   \n",
      "..        ...        ...          ...     ...           ...            ...   \n",
      "564    25.450      26.40       166.10  2027.0       0.14100        0.21130   \n",
      "565    23.690      38.25       155.00  1731.0       0.11660        0.19220   \n",
      "566    18.980      34.12       126.70  1124.0       0.11390        0.30940   \n",
      "567    25.740      39.42       184.60  1821.0       0.16500        0.86810   \n",
      "568     9.456      30.37        59.16   268.6       0.08996        0.06444   \n",
      "\n",
      "     concavity_2  concave points_2  symmetry_2  fractal dimension_2  \n",
      "0         0.7119            0.2654      0.4601              0.11890  \n",
      "1         0.2416            0.1860      0.2750              0.08902  \n",
      "2         0.4504            0.2430      0.3613              0.08758  \n",
      "3         0.6869            0.2575      0.6638              0.17300  \n",
      "4         0.4000            0.1625      0.2364              0.07678  \n",
      "..           ...               ...         ...                  ...  \n",
      "564       0.4107            0.2216      0.2060              0.07115  \n",
      "565       0.3215            0.1628      0.2572              0.06637  \n",
      "566       0.3403            0.1418      0.2218              0.07820  \n",
      "567       0.9387            0.2650      0.4087              0.12400  \n",
      "568       0.0000            0.0000      0.2871              0.07039  \n",
      "\n",
      "[569 rows x 32 columns]\n"
     ]
    }
   ],
   "source": [
    "from sklearn.model_selection import train_test_split\n",
    "import pickle\n",
    "from sklearn.feature_selection import SequentialFeatureSelector\n",
    "\n",
    "with open('data/wdbc.pkl', 'rb') as f:\n",
    "    df = pickle.load(f)\n",
    "    print(df)\n",
    "\n",
    "    y = df.malignant\n",
    "    df = df.drop(columns=['malignant'])\n",
    "    X_train, X_test, y_train, y_test = train_test_split(df, y)\n",
    "\n",
    "clf = GaussianNB().fit(X_train, y_train)\n",
    "sfs = SequentialFeatureSelector(\n",
    "    clf, n_features_to_select=10, direction='forward'\n",
    ")\n"
   ],
   "metadata": {
    "collapsed": false
   }
  },
  {
   "cell_type": "code",
   "execution_count": 26,
   "outputs": [
    {
     "data": {
      "text/plain": "{'estimator': GaussianNB(),\n 'n_features_to_select': 10,\n 'tol': None,\n 'direction': 'forward',\n 'scoring': None,\n 'cv': 5,\n 'n_jobs': None}"
     },
     "execution_count": 26,
     "metadata": {},
     "output_type": "execute_result"
    }
   ],
   "source": [
    "vars(sfs)"
   ],
   "metadata": {
    "collapsed": false
   }
  },
  {
   "cell_type": "code",
   "execution_count": 24,
   "outputs": [
    {
     "data": {
      "text/plain": "{'priors': None,\n 'var_smoothing': 1e-09,\n 'classes_': array([0, 1]),\n 'feature_names_in_': array(['id', 'radius_0', 'texture_0', 'perimeter_0', 'area_0',\n        'smoothness_0', 'compactness_0', 'concavity_0', 'concave points_0',\n        'symmetry_0', 'fractal dimension_0', 'radius_1', 'texture_1',\n        'perimeter_1', 'area_1', 'smoothness_1', 'compactness_1',\n        'concavity_1', 'concave points_1', 'symmetry_1',\n        'fractal dimension_1', 'radius_2', 'texture_2', 'perimeter_2',\n        'area_2', 'smoothness_2', 'compactness_2', 'concavity_2',\n        'concave points_2', 'symmetry_2', 'fractal dimension_2'],\n       dtype=object),\n 'n_features_in_': 31,\n 'epsilon_': 15062002.309991118,\n 'theta_': array([[2.15583993e+07, 1.20737854e+01, 1.77621456e+01, 7.75767816e+01,\n         4.57912644e+02, 9.28049042e-02, 7.89827203e-02, 4.59522337e-02,\n         2.58558276e-02, 1.75769732e-01, 6.28426054e-02, 2.86272031e-01,\n         1.21945019e+00, 2.01872375e+00, 2.11931149e+01, 7.33640230e-03,\n         2.10639042e-02, 2.59999038e-02, 9.99106513e-03, 2.11162797e-02,\n         3.61309579e-03, 1.32901724e+01, 2.32264368e+01, 8.63467433e+01,\n         5.52298851e+02, 1.25320805e-01, 1.78073295e-01, 1.61915870e-01,\n         7.37680536e-02, 2.72269349e-01, 7.91895785e-02],\n        [4.35472744e+07, 1.75919394e+01, 2.18862424e+01, 1.16146545e+02,\n         9.94980000e+02, 1.02215636e-01, 1.43032848e-01, 1.60093636e-01,\n         8.77827273e-02, 1.91447879e-01, 6.23650909e-02, 6.15415758e-01,\n         1.22808303e+00, 4.38340000e+00, 7.42733939e+01, 6.68081818e-03,\n         3.13243758e-02, 4.12806061e-02, 1.50844970e-02, 2.05352061e-02,\n         3.99583030e-03, 2.12670909e+01, 2.96372121e+01, 1.42146000e+02,\n         1.44371636e+03, 1.43785394e-01, 3.66537636e-01, 4.47178061e-01,\n         1.82285333e-01, 3.21858182e-01, 9.07055758e-02]]),\n 'var_': array([[9.29967368e+15, 1.50620056e+07, 1.50620180e+07, 1.50621472e+07,\n         1.50809571e+07, 1.50620023e+07, 1.50620023e+07, 1.50620023e+07,\n         1.50620023e+07, 1.50620023e+07, 1.50620023e+07, 1.50620023e+07,\n         1.50620027e+07, 1.50620030e+07, 1.50620817e+07, 1.50620023e+07,\n         1.50620023e+07, 1.50620023e+07, 1.50620023e+07, 1.50620023e+07,\n         1.50620023e+07, 1.50620065e+07, 1.50620318e+07, 1.50621953e+07,\n         1.50904320e+07, 1.50620023e+07, 1.50620023e+07, 1.50620023e+07,\n         1.50620023e+07, 1.50620023e+07, 1.50620023e+07],\n        [2.38807232e+16, 1.50620133e+07, 1.50620163e+07, 1.50625153e+07,\n         1.52110374e+07, 1.50620023e+07, 1.50620023e+07, 1.50620023e+07,\n         1.50620023e+07, 1.50620023e+07, 1.50620023e+07, 1.50620024e+07,\n         1.50620025e+07, 1.50620096e+07, 1.50663416e+07, 1.50620023e+07,\n         1.50620023e+07, 1.50620023e+07, 1.50620023e+07, 1.50620023e+07,\n         1.50620023e+07, 1.50620225e+07, 1.50620309e+07, 1.50629666e+07,\n         1.54641479e+07, 1.50620023e+07, 1.50620023e+07, 1.50620023e+07,\n         1.50620023e+07, 1.50620023e+07, 1.50620023e+07]]),\n 'class_count_': array([261., 165.]),\n 'class_prior_': array([0.61267606, 0.38732394])}"
     },
     "execution_count": 24,
     "metadata": {},
     "output_type": "execute_result"
    }
   ],
   "source": [
    "vars(sfs.estimator)"
   ],
   "metadata": {
    "collapsed": false
   }
  },
  {
   "cell_type": "code",
   "execution_count": null,
   "outputs": [],
   "source": [],
   "metadata": {
    "collapsed": false
   }
  },
  {
   "cell_type": "code",
   "execution_count": 50,
   "outputs": [
    {
     "data": {
      "text/plain": "['radius_0',\n 'perimeter_0',\n 'area_0',\n 'concavity_0',\n 'concave points_0',\n 'radius_2',\n 'perimeter_2',\n 'area_2',\n 'concavity_2',\n 'concave points_2']"
     },
     "execution_count": 50,
     "metadata": {},
     "output_type": "execute_result"
    }
   ],
   "source": [
    "from sklearn.feature_selection import SelectFromModel, SelectKBest, f_classif\n",
    "selector = SelectKBest(f_classif, k=10)\n",
    "selector.fit(X_train, y_train)\n",
    "features = selector.get_feature_names_out()\n",
    "list(features)"
   ],
   "metadata": {
    "collapsed": false
   }
  },
  {
   "cell_type": "code",
   "execution_count": 47,
   "outputs": [
    {
     "data": {
      "text/plain": "array([[81,  5],\n       [ 7, 50]], dtype=int64)"
     },
     "execution_count": 47,
     "metadata": {},
     "output_type": "execute_result"
    }
   ],
   "source": [
    "gnb = GaussianNB().fit(X_train[features], y_train)\n",
    "y_pred = gnb.predict(X_test[features])\n",
    "confusion_matrix(y_test, y_pred)"
   ],
   "metadata": {
    "collapsed": false
   }
  },
  {
   "cell_type": "code",
   "execution_count": 49,
   "outputs": [
    {
     "data": {
      "text/plain": "0.916083916083916"
     },
     "execution_count": 49,
     "metadata": {},
     "output_type": "execute_result"
    }
   ],
   "source": [
    "gnb.score(X_test[features], y_test)"
   ],
   "metadata": {
    "collapsed": false
   }
  },
  {
   "cell_type": "code",
   "execution_count": null,
   "outputs": [],
   "source": [
    "from sklearn.feature_selection import SelectFromModel, SelectKBest, f_classif\n",
    "selector = SelectKBest(f_classif, k=10)\n",
    "selector.fit(X_train, y_train)\n",
    "features = selector.get_feature_names_out()\n",
    "\n",
    "gnb = GaussianNB().fit(X_train[features], y_train)\n",
    "y_pred = gnb.predict(X_test[features])\n",
    "confusion_matrix(y_test, y_pred)\n",
    "\n",
    "gnb.score(X_test[features], y_test)"
   ],
   "metadata": {
    "collapsed": false
   }
  }
 ],
 "metadata": {
  "kernelspec": {
   "display_name": "Python 3",
   "language": "python",
   "name": "python3"
  },
  "language_info": {
   "codemirror_mode": {
    "name": "ipython",
    "version": 2
   },
   "file_extension": ".py",
   "mimetype": "text/x-python",
   "name": "python",
   "nbconvert_exporter": "python",
   "pygments_lexer": "ipython2",
   "version": "2.7.6"
  }
 },
 "nbformat": 4,
 "nbformat_minor": 0
}
